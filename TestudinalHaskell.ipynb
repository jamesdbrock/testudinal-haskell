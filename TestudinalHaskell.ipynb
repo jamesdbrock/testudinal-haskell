{
 "cells": [
  {
   "cell_type": "markdown",
   "source": [
    "# Testudinal Haskell Notebook\n",
    "\n",
    "This notebook teaches Haskell programming to middle-school students (fourth grade to eighth grade).\n",
    "\n",
    "Some people, especially adult computer programmers, may tell you that Haskell is really hard. Actually the opposite is true.\n",
    "Haskell is the easiest programming language to learn.\n",
    "It’s only hard for adults who learned a primitive kind of computer programming when they were kids in the twentieth century.\n",
    "If you've studied fractions in school, then you're ready to learn Haskell.\n",
    "\n",
    "“Testudinal” means “having to do with turtles.” This Haskell learning\n",
    "notebook shows you how to do computer graphics in a style called\n",
    "“[turtle graphics](https://en.wikipedia.org/wiki/Turtle_graphics).”\n",
    "\n",
    "You must run the following cell first, before running any other cells. \n",
    "\n",
    "Now hold down <kbd>🡅 Shift</kbd> and press <kbd>↵ Enter</kbd> two times to run the next code cell.\n",
    "The next code cell contains some commands to make this notebook work right."
   ],
   "metadata": {}
  },
  {
   "cell_type": "code",
   "execution_count": null,
   "source": [
    ":extension NoMonomorphismRestriction FlexibleContexts TypeFamilies FlexibleInstances BlockArguments\n",
    ":load lib/TestudinalPrelude\n",
    "import TestudinalPrelude\n",
    "default (Rational, Integer, Double)\n",
    "putStrLn \"Notebook works right!\""
   ],
   "outputs": [],
   "metadata": {}
  },
  {
   "cell_type": "markdown",
   "source": [
    "# Running the Notebook Cells\n",
    "\n",
    "Here is a reference of keyboard commands. You'll want to look at this later. For now, just press <kbd>🡅 Shift</kbd><kbd>↵ Enter</kbd> again.\n",
    "\n",
    "| Keyboard Command | Action |\n",
    "|-------------:|---------------|\n",
    "|<kbd>🡅 Shift</kbd><kbd>↵ Enter</kbd> | Run the selected Jupyter cell and advance to the next cell |\n",
    "|<kbd>Ctrl</kbd><kbd>↵ Enter</kbd> | Run the selected Jupyter cell and don't advance |\n",
    "|<kbd>Alt</kbd><kbd>↵ Enter</kbd> | Run the selected Jupyter cell and insert a new cell after |\n",
    "|<kbd>↵ Enter</kbd> | Edit the selected Jupyter cell |\n",
    "|<kbd>Ctrl</kbd><kbd>🡅 Shift</kbd><kbd>-_</kbd> | Split the Jupyter cell at the cursor position |"
   ],
   "metadata": {}
  },
  {
   "cell_type": "markdown",
   "source": [
    "# Math and Numbers\n",
    "\n",
    "To start out with, the computer can calculate math.\n",
    "\n",
    "Keep pressing <kbd>🡅 Shift</kbd><kbd>↵ Enter</kbd> to see the computer calculate these numbers."
   ],
   "metadata": {}
  },
  {
   "cell_type": "markdown",
   "source": [
    "Add two numbers:"
   ],
   "metadata": {}
  },
  {
   "cell_type": "code",
   "execution_count": null,
   "source": [
    "1+1"
   ],
   "outputs": [],
   "metadata": {}
  },
  {
   "cell_type": "markdown",
   "source": [
    "Here's how to type “plus\": <kbd>🡅 Shift</kbd><kbd>=+</kbd>\n",
    "\n",
    "Try adding two numbers in this blank cell:"
   ],
   "metadata": {}
  },
  {
   "cell_type": "code",
   "execution_count": null,
   "source": [],
   "outputs": [],
   "metadata": {}
  },
  {
   "cell_type": "markdown",
   "source": [
    "Subtract two numbers:"
   ],
   "metadata": {}
  },
  {
   "cell_type": "code",
   "execution_count": null,
   "source": [
    "2-1"
   ],
   "outputs": [],
   "metadata": {}
  },
  {
   "cell_type": "markdown",
   "source": [
    "Here's how to type “minus”: <kbd>-_</kbd>\n",
    "\n",
    "Try subtraction in this cell:"
   ],
   "metadata": {}
  },
  {
   "cell_type": "code",
   "execution_count": null,
   "source": [],
   "outputs": [],
   "metadata": {}
  },
  {
   "cell_type": "markdown",
   "source": [
    "The multiplication sign is the “asterisk” `*` (instead of `×`).\n",
    "\n",
    "Multiply:"
   ],
   "metadata": {}
  },
  {
   "cell_type": "code",
   "execution_count": null,
   "source": [
    "2*3"
   ],
   "outputs": [],
   "metadata": {}
  },
  {
   "cell_type": "markdown",
   "source": [
    "Here's how to type “asterisk”: <kbd>🡅 Shift</kbd><kbd>8*</kbd>\n",
    " \n",
    "Try multiplying some numbers in this cell:"
   ],
   "metadata": {}
  },
  {
   "cell_type": "code",
   "execution_count": null,
   "source": [],
   "outputs": [],
   "metadata": {}
  },
  {
   "cell_type": "markdown",
   "source": [
    "The division sign is the “forward slash” `/` (instead of `÷`).\n",
    "\n",
    "Divide:"
   ],
   "metadata": {}
  },
  {
   "cell_type": "code",
   "execution_count": null,
   "source": [
    "6/2"
   ],
   "outputs": [],
   "metadata": {}
  },
  {
   "cell_type": "markdown",
   "source": [
    "Here's how to type “forward slash”: <kbd>/?</kbd>\n",
    "\n",
    "Try dividing two numbers in this cell:"
   ],
   "metadata": {}
  },
  {
   "cell_type": "code",
   "execution_count": null,
   "source": [],
   "outputs": [],
   "metadata": {}
  },
  {
   "cell_type": "markdown",
   "source": [
    "The computer is good at fractions, of course.\n",
    "\n",
    "One-third plus one-third plus one-third equals one."
   ],
   "metadata": {}
  },
  {
   "cell_type": "code",
   "execution_count": null,
   "source": [
    "(1/3) + (1/3) + (1/3)"
   ],
   "outputs": [],
   "metadata": {}
  },
  {
   "cell_type": "markdown",
   "source": [
    "Any time you want to insert a blank notebook cell to try something\n",
    "out, you can press <kbd>Alt</kbd><kbd>↵ Enter</kbd>."
   ],
   "metadata": {}
  },
  {
   "cell_type": "markdown",
   "source": [
    "# Variable names\n",
    "\n",
    "We can give names to numbers, to remember them. These names are called “variables”. We can say the name “alice” is equal to the number *3*. (The variable names must use lowercase letters, so we can’t name a variable “Alice”.)"
   ],
   "metadata": {}
  },
  {
   "cell_type": "code",
   "execution_count": null,
   "source": [
    "alice = 1+2"
   ],
   "outputs": [],
   "metadata": {}
  },
  {
   "cell_type": "code",
   "execution_count": null,
   "source": [
    "alice"
   ],
   "outputs": [],
   "metadata": {}
  },
  {
   "cell_type": "markdown",
   "source": [
    "So then we can use the name “alice” to mean *3*."
   ],
   "metadata": {}
  },
  {
   "cell_type": "code",
   "execution_count": null,
   "source": [
    "alice + 4"
   ],
   "outputs": [],
   "metadata": {}
  },
  {
   "cell_type": "markdown",
   "source": [
    "# Functions\n",
    "\n",
    "A __function__ is a little computer program.\n",
    "\n",
    "A function has “arguments”, which means stuff that goes into the function before it starts, and “results,” which means stuff that comes out of the function after it finishes.\n",
    "\n",
    "You can write a function, then give the function some argument variables. The function has a name, and each argument variable has a name.\n",
    "\n",
    "Here is a function named `doubleplus`, with two arguments, named `x` and `y`."
   ],
   "metadata": {}
  },
  {
   "cell_type": "code",
   "execution_count": null,
   "source": [
    "doubleplus x y = 2 * x + y"
   ],
   "outputs": [],
   "metadata": {}
  },
  {
   "cell_type": "markdown",
   "source": [
    "Now we can “call” the function, which means to give it some arguments, and then it will run its program, and show us the result.\n",
    "\n",
    "Let's call the `doubleplus` function with arguments `x=1`, and `y=2`."
   ],
   "metadata": {}
  },
  {
   "cell_type": "code",
   "execution_count": null,
   "source": [
    "doubleplus 1 2"
   ],
   "outputs": [],
   "metadata": {}
  },
  {
   "cell_type": "markdown",
   "source": [
    "So `doubleplus 1 2` is equal to `2 * 1 + 2` and the result is `4`, that checks out."
   ],
   "metadata": {}
  },
  {
   "cell_type": "code",
   "execution_count": null,
   "source": [
    "doubleplus 2 3"
   ],
   "outputs": [],
   "metadata": {}
  },
  {
   "cell_type": "markdown",
   "source": [
    "What did `doubleplus` calculate first, the `2 * x` or the `x + y` ? \n",
    "\n",
    "It calculated the `2 * x` first. If we want to make it calculate the `x + y` first, then we can put parentheses around the `x + y`."
   ],
   "metadata": {}
  },
  {
   "cell_type": "code",
   "execution_count": null,
   "source": [
    "doubleplusgood x y = 2 * (x + y)"
   ],
   "outputs": [],
   "metadata": {}
  },
  {
   "cell_type": "code",
   "execution_count": null,
   "source": [
    "doubleplusgood 1 2"
   ],
   "outputs": [],
   "metadata": {}
  },
  {
   "cell_type": "code",
   "execution_count": null,
   "source": [
    "doubleplusgood 2 3"
   ],
   "outputs": [],
   "metadata": {}
  },
  {
   "cell_type": "markdown",
   "source": [
    "Try writing a new function with two arguments, like `morefun x y = x + x + y`:"
   ],
   "metadata": {}
  },
  {
   "cell_type": "code",
   "execution_count": null,
   "source": [],
   "outputs": [],
   "metadata": {}
  },
  {
   "cell_type": "markdown",
   "source": [
    "Now call your function with arguments, like `morefun 1 2`:"
   ],
   "metadata": {}
  },
  {
   "cell_type": "code",
   "execution_count": null,
   "source": [],
   "outputs": [],
   "metadata": {}
  },
  {
   "cell_type": "markdown",
   "source": [
    "# Letters, characters, and strings\n",
    "\n",
    "A “character” is a one letter in single quotes, like this: `'I'`."
   ],
   "metadata": {}
  },
  {
   "cell_type": "code",
   "execution_count": null,
   "source": [
    "'I'"
   ],
   "outputs": [],
   "metadata": {}
  },
  {
   "cell_type": "markdown",
   "source": [
    "A “string” means a string of letters in double-quotes, like this: `\"I am a string.\"`"
   ],
   "metadata": {}
  },
  {
   "cell_type": "code",
   "execution_count": null,
   "source": [
    "\"I am a string.\""
   ],
   "outputs": [],
   "metadata": {}
  },
  {
   "cell_type": "markdown",
   "source": [
    "A string can be an argument going into a function or a result coming out of a function.\n",
    "\n",
    "The function `head` takes a string of characters as an argument, and the result is the first character in the string."
   ],
   "metadata": {}
  },
  {
   "cell_type": "code",
   "execution_count": null,
   "source": [
    "head \"I am a string.\""
   ],
   "outputs": [],
   "metadata": {}
  },
  {
   "cell_type": "markdown",
   "source": [
    "We can stick two strings together with the `<>` symbol, which is like `+` but for strings instead of numbers.\n",
    "\n",
    "Here's how to type the `<>` symbol: <kbd>🡅 Shift</kbd><kbd>,<</kbd> <kbd>🡅 Shift</kbd><kbd>.></kbd>"
   ],
   "metadata": {}
  },
  {
   "cell_type": "code",
   "execution_count": null,
   "source": [
    "\"I am ... \" <> \"a string.\""
   ],
   "outputs": [],
   "metadata": {}
  },
  {
   "cell_type": "markdown",
   "source": [
    "# CAPTAIN UNDERPANTS #4\n",
    "\n",
    "### And The Perilous Plot of Professor Poopypants\n",
    "\n",
    "Copyright © Dav Pilkey, 1999\n",
    "\n",
    "### CHAPTER 15 \n",
    "### THE NAME CHANGE-O-CHART 2000\n",
    "\n",
    "p.91 — p.92\n",
    "\n",
    "<img src=\"img/ttname1.jpg\" style=\"width:300px;\"/><img src=\"img/ttname2.jpg\" style=\"width:300px;\"/><img src=\"img/ttname3.jpg\" style=\"width:300px;\"/>\n",
    "\n",
    "Professor Poopypants gives these charts with some rules for how everyone on Earth must change their name into a silly name.\n",
    "\n",
    "* Take the first letter of your first name, and look it up in Chart 1.\n",
    "* Take the first letter of your last name, and look it up in Chart 2.\n",
    "* Take the last letter of your last name, and look it up in Chart 3.\n",
    "\n",
    "The result is your silly name.\n",
    "\n",
    "We can write a function to change names into silly names. First, we'll write three functions, one for each chart. We'll name our functions `chart1`, `chart2`, and `chart3`.\n",
    "\n",
    "Notice how we keep writing the same `chart1` function over and over with different argument characters. This is called “pattern matching.” When we call the `chart1` function with a character, the result will be the word that matches the character."
   ],
   "metadata": {}
  },
  {
   "cell_type": "code",
   "execution_count": null,
   "source": [
    "chart1 'A' = \"Stinky\"\n",
    "chart1 'B' = \"Lumpy\"\n",
    "chart1 'C' = \"Buttercup\"\n",
    "chart1 'D' = \"Gidget\"\n",
    "chart1 'E' = \"Crusty\"\n",
    "chart1 'F' = \"Greasy\"\n",
    "chart1 'G' = \"Fluffy\"\n",
    "chart1 'H' = \"Cheeseball\"\n",
    "chart1 'I' = \"Chim-Chim\"\n",
    "chart1 'J' = \"Poopsie\"\n",
    "chart1 'K' = \"Flunky\"\n",
    "chart1 'L' = \"Booger\"\n",
    "chart1 'M' = \"Pinky\"\n",
    "chart1 'N' = \"Zippy\"\n",
    "chart1 'O' = \"Goober\"\n",
    "chart1 'P' = \"Doofus\"\n",
    "chart1 'Q' = \"Slimey\"\n",
    "chart1 'R' = \"Loopy\"\n",
    "chart1 'S' = \"Snotty\"\n",
    "chart1 'T' = \"Falafel\"\n",
    "chart1 'U' = \"Dorky\"\n",
    "chart1 'V' = \"Squeezit\"\n",
    "chart1 'W' = \"Oprah\"\n",
    "chart1 'X' = \"Skipper\"\n",
    "chart1 'Y' = \"Dinky\"\n",
    "chart1 'Z' = \"Zsa-Zsa\"\n",
    "chart1 _   = \"???\"\n",
    "\n",
    "chart2 'A' = \"Diaper\"\n",
    "chart2 'B' = \"Toilet\"\n",
    "chart2 'C' = \"Giggle\"\n",
    "chart2 'D' = \"Bubble\"\n",
    "chart2 'E' = \"Girdle\"\n",
    "chart2 'F' = \"Barf\"\n",
    "chart2 'G' = \"Lizard\"\n",
    "chart2 'H' = \"Waffle\"\n",
    "chart2 'I' = \"Cootie\"\n",
    "chart2 'J' = \"Monkey\"\n",
    "chart2 'K' = \"Potty\"\n",
    "chart2 'L' = \"Liver\"\n",
    "chart2 'M' = \"Banana\"\n",
    "chart2 'N' = \"Rhino\"\n",
    "chart2 'O' = \"Burger\"\n",
    "chart2 'P' = \"Hamster\"\n",
    "chart2 'Q' = \"Toad\"\n",
    "chart2 'R' = \"Gizzard\"\n",
    "chart2 'S' = \"Pizza\"\n",
    "chart2 'T' = \"Gerbil\"\n",
    "chart2 'U' = \"Chicken\"\n",
    "chart2 'V' = \"Pickle\"\n",
    "chart2 'W' = \"Chuckle\"\n",
    "chart2 'X' = \"Tofu\"\n",
    "chart2 'Y' = \"Gorilla\"\n",
    "chart2 'Z' = \"Stinker\"\n",
    "chart2 _   = \"???\"\n",
    "\n",
    "chart3 'A' = \"Head\"\n",
    "chart3 'B' = \"Mouth\"\n",
    "chart3 'C' = \"Face\"\n",
    "chart3 'D' = \"Nose\"\n",
    "chart3 'E' = \"Tush\"\n",
    "chart3 'F' = \"Breath\"\n",
    "chart3 'G' = \"Pants\"\n",
    "chart3 'H' = \"Shorts\"\n",
    "chart3 'I' = \"Lips\"\n",
    "chart3 'J' = \"Honker\"\n",
    "chart3 'K' = \"Butt\"\n",
    "chart3 'L' = \"Brain\"\n",
    "chart3 'M' = \"Tushie\"\n",
    "chart3 'N' = \"Chunks\"\n",
    "chart3 'O' = \"Hiney\"\n",
    "chart3 'P' = \"Biscuits\"\n",
    "chart3 'Q' = \"Toes\"\n",
    "chart3 'R' = \"Buns\"\n",
    "chart3 'S' = \"Fanny\"\n",
    "chart3 'T' = \"Sniffer\"\n",
    "chart3 'U' = \"Sprinkles\"\n",
    "chart3 'V' = \"Kisser\"\n",
    "chart3 'W' = \"Squirt\"\n",
    "chart3 'X' = \"Humperdinck\"\n",
    "chart3 'Y' = \"Brains\"\n",
    "chart3 'Z' = \"Juice\"\n",
    "chart3 _   = \"???\""
   ],
   "outputs": [],
   "metadata": {}
  },
  {
   "cell_type": "markdown",
   "source": [
    "The function `words` splits a string up into a list of separate words."
   ],
   "metadata": {}
  },
  {
   "cell_type": "code",
   "execution_count": null,
   "source": [
    "words \"Professor Poopypants\""
   ],
   "outputs": [],
   "metadata": {}
  },
  {
   "cell_type": "markdown",
   "source": [
    "Here's a new thing: lists. We can make a list with square brackets\n",
    "`[` `]` and commas `,`.\n",
    "\n",
    "Here's a list of numbers:"
   ],
   "metadata": {}
  },
  {
   "cell_type": "code",
   "execution_count": null,
   "source": [
    "[1,2,1000]"
   ],
   "outputs": [],
   "metadata": {}
  },
  {
   "cell_type": "markdown",
   "source": [
    "Here's a list of characters, which is actually what a string is:"
   ],
   "metadata": {}
  },
  {
   "cell_type": "code",
   "execution_count": null,
   "source": [
    "['I',' ','a','m',' ','a',' ','s','t','r','i','n','g','.']"
   ],
   "outputs": [],
   "metadata": {}
  },
  {
   "cell_type": "markdown",
   "source": [
    "Now we’ll write some helper functions. We’ll use the function `head`, which returns the first thing in a list, and the function `last`, which returns the last thing in a list.\n",
    "\n",
    "The function `firstname` will return the first name from a name.\n",
    "\n",
    "The function `lastname` will return the last name from a name."
   ],
   "metadata": {}
  },
  {
   "cell_type": "code",
   "execution_count": null,
   "source": [
    "firstname name = head (words name)\n",
    "lastname name = last (words name)"
   ],
   "outputs": [],
   "metadata": {}
  },
  {
   "cell_type": "code",
   "execution_count": null,
   "source": [
    "firstname \"Professor Poopypants\""
   ],
   "outputs": [],
   "metadata": {}
  },
  {
   "cell_type": "code",
   "execution_count": null,
   "source": [
    "lastname \"Professor Poopypants\""
   ],
   "outputs": [],
   "metadata": {}
  },
  {
   "cell_type": "markdown",
   "source": [
    "We need to use this function called `toUpper` which takes a character\n",
    "and returns the same character, but uppercase. Because the `chart` functions only work with uppercase characters."
   ],
   "metadata": {}
  },
  {
   "cell_type": "code",
   "execution_count": null,
   "source": [
    "toUpper 'a'"
   ],
   "outputs": [],
   "metadata": {}
  },
  {
   "cell_type": "markdown",
   "source": [
    "Now the tricky bit, writing the `sillyname` function."
   ],
   "metadata": {}
  },
  {
   "cell_type": "code",
   "execution_count": null,
   "source": [
    "sillyname name = chart1 (toUpper (head (firstname name))) \n",
    "                 <> \" \" \n",
    "                 <> chart2 (toUpper (head (lastname name))) \n",
    "                 <> chart3 (toUpper (last (lastname name)))"
   ],
   "outputs": [],
   "metadata": {}
  },
  {
   "cell_type": "code",
   "execution_count": null,
   "source": [
    "sillyname \"Professor Poopypants\""
   ],
   "outputs": [],
   "metadata": {}
  },
  {
   "cell_type": "markdown",
   "source": [
    "But what's the silly name for `\"Doofus HamsterFanny\"`? We can \n",
    "call the `sillyname` function again to find out."
   ],
   "metadata": {}
  },
  {
   "cell_type": "code",
   "execution_count": null,
   "source": [
    "sillyname \"Doofus HamsterFanny\""
   ],
   "outputs": [],
   "metadata": {}
  },
  {
   "cell_type": "markdown",
   "source": [
    "Which is the same thing as calling the `sillyName` function twice on `\"Professor Poopypants\"`."
   ],
   "metadata": {}
  },
  {
   "cell_type": "code",
   "execution_count": null,
   "source": [
    "sillyname (sillyname \"Professor Poopypants\")"
   ],
   "outputs": [],
   "metadata": {}
  },
  {
   "cell_type": "markdown",
   "source": [
    "Obviously you want to know your own silly name. Call the `sillyname`\n",
    "function in this cell:"
   ],
   "metadata": {}
  },
  {
   "cell_type": "code",
   "execution_count": null,
   "source": [],
   "outputs": [],
   "metadata": {}
  },
  {
   "cell_type": "markdown",
   "source": [
    "Use the `nTimes` function to call the `sillyname` function over and over again “n” times on the same name. The “n” is the number of times."
   ],
   "metadata": {}
  },
  {
   "cell_type": "code",
   "execution_count": null,
   "source": [
    "nTimes 2 sillyname \"Professor PoopyPants\"\n",
    "nTimes 3 sillyname \"Professor PoopyPants\"\n",
    "nTimes 4 sillyname \"Professor PoopyPants\""
   ],
   "outputs": [],
   "metadata": {}
  },
  {
   "cell_type": "markdown",
   "source": [
    "# Doing IO Actions\n",
    "\n",
    "“IO” stands for “Input Output” and it’s pronounced “eye-oh”.\n",
    "\n",
    "An IO action is a special kind of function. It's special because for this kind of function, the sequence of the actions matters. The word “sequence” means “one thing comes before, and one thing comes after.”\n",
    "\n",
    "Sometimes we want to tell the computer to first do one action, and then next do another action. This is called __IO action sequencing__.\n",
    "\n",
    "To sequence IO actions, we write `do` and then the list of actions, one on each line, like this. The actions must be indented with a space, so that we know they all belong to the same `do` IO action block.\n",
    "\n",
    "```\n",
    "do\n",
    " action 1\n",
    " action 2\n",
    "```\n",
    "\n",
    "The way that we tell the computer to print a string is the `putStr` IO action function. The `putStr` function must be in a `do` IO action block, for action sequencing."
   ],
   "metadata": {}
  },
  {
   "cell_type": "code",
   "execution_count": null,
   "source": [
    "do\n",
    " putStr \"I am ...\"\n",
    " putStr \" two strings.\""
   ],
   "outputs": [],
   "metadata": {}
  },
  {
   "cell_type": "markdown",
   "source": [
    "The action to start printing on the next line is `putStrLn \"\"`, which is pronounced “put string line.”"
   ],
   "metadata": {}
  },
  {
   "cell_type": "code",
   "execution_count": null,
   "source": [
    "do\n",
    " putStr \"I am ...\"\n",
    " putStrLn \"\"\n",
    " putStr \" two strings.\""
   ],
   "outputs": [],
   "metadata": {}
  },
  {
   "cell_type": "markdown",
   "source": [
    "To make the computer repeat an action, we use the `replicateM_` function. With `replicateM_` we can start an inner `do` action block.\n",
    "\n",
    "Notice that the inner `do` IO action block needs two spaces indented."
   ],
   "metadata": {}
  },
  {
   "cell_type": "code",
   "execution_count": null,
   "source": [
    "do\n",
    " replicateM_ 3 do\n",
    "  putStr \"act\"\n",
    "  putStrLn \"\""
   ],
   "outputs": [],
   "metadata": {}
  },
  {
   "cell_type": "markdown",
   "source": [
    "# Turtle Drawing with IO Actions"
   ],
   "metadata": {}
  },
  {
   "cell_type": "markdown",
   "source": [
    "Let's draw in the notebook. To draw, we use an imaginary pen which\n",
    "we call “the turtle.”\n",
    "\n",
    "The turtle starts at the left side of the page, pointing to the right. We use IO action functions\n",
    "to tell it what to draw.\n",
    "\n",
    "Let’s say:\n",
    "* Go forward 2 steps\n",
    "* Turn right 90 degrees\n",
    "* Go forward 1 step\n",
    "* Turn right 90 degrees\n",
    "* Go forward 1 step"
   ],
   "metadata": {}
  },
  {
   "cell_type": "code",
   "execution_count": null,
   "source": [
    "turtle do\n",
    " forward 2\n",
    " right 90\n",
    " forward 1\n",
    " right 90\n",
    " forward 1"
   ],
   "outputs": [],
   "metadata": {}
  },
  {
   "cell_type": "markdown",
   "source": [
    "Here's how to draw a star:"
   ],
   "metadata": {}
  },
  {
   "cell_type": "code",
   "execution_count": null,
   "source": [
    "turtle do\n",
    " forward 1\n",
    " right (360*(2/5))\n",
    " forward 1\n",
    " right (360*(2/5))\n",
    " forward 1\n",
    " right (360*(2/5))\n",
    " forward 1\n",
    " right (360*(2/5))\n",
    " forward 1\n",
    " right (360*(2/5))"
   ],
   "outputs": [],
   "metadata": {}
  },
  {
   "cell_type": "markdown",
   "source": [
    " We can use `doTimes` to repeat our IO actions."
   ],
   "metadata": {}
  },
  {
   "cell_type": "code",
   "execution_count": null,
   "source": [
    "turtle do\n",
    " doTimes 5 do\n",
    "  forward 1\n",
    "  right (360*(2/5))"
   ],
   "outputs": [],
   "metadata": {}
  },
  {
   "cell_type": "markdown",
   "source": [
    "The action that makes the turtle do nothing is called `pure ()`."
   ],
   "metadata": {}
  },
  {
   "cell_type": "markdown",
   "source": [],
   "metadata": {}
  },
  {
   "cell_type": "markdown",
   "source": [
    "Here are some links to more functions which you can use.\n",
    "\n",
    "* [Diagrams Prelude](https://hackage.haskell.org/package/diagrams-lib/docs/Diagrams-Prelude.html)\n",
    "* [Turtle reference](http://hackage.haskell.org/package/diagrams-contrib/docs/Diagrams-TwoD-Path-Turtle.html)\n",
    "* [Color names](https://hackage.haskell.org/package/colour/docs/Data-Colour-Names.html)"
   ],
   "metadata": {}
  },
  {
   "cell_type": "code",
   "execution_count": null,
   "source": [
    "spiral distance angle =\n",
    " if distance < 1 \n",
    "  then pure ()\n",
    "  else do\n",
    "   forward distance\n",
    "   left angle\n",
    "   spiral (distance * (19/20)) angle"
   ],
   "outputs": [],
   "metadata": {}
  },
  {
   "cell_type": "code",
   "execution_count": null,
   "source": [
    "turtle do\n",
    " right 90\n",
    " setPenColor purple\n",
    " spiral 100 11\n",
    " setPenColor orange\n",
    " spiral 100 12\n",
    " setPenColor firebrick\n",
    " spiral 100 13"
   ],
   "outputs": [],
   "metadata": {}
  },
  {
   "cell_type": "markdown",
   "source": [
    "The `resetTurtle` function will make the turtle do some action and then return to the same place where it started.\n",
    "\n",
    "Here is a function to draw a [fern](http://www.pool.rnd.team/en/Galeria)."
   ],
   "metadata": {}
  },
  {
   "cell_type": "code",
   "execution_count": null,
   "source": [
    "fern1 size sign = do\n",
    " setPenColor orange\n",
    " setPenWidth 1\n",
    " if size < 0.1 \n",
    "  then pure ()\n",
    "  else resetTurtle do\n",
    "   forward size\n",
    "   resetTurtle do \n",
    "    right (70 * sign)\n",
    "    fern1 (0.5 * size) (negate sign)\n",
    "   forward size\n",
    "   resetTurtle do \n",
    "    left (70 * sign)\n",
    "    fern1 (0.5 * size) sign\n",
    "   resetTurtle do \n",
    "    right (7 * sign)\n",
    "    fern1 (size - 1) sign"
   ],
   "outputs": [],
   "metadata": {}
  },
  {
   "cell_type": "code",
   "execution_count": null,
   "source": [
    "turtle do fern1 21 (-1)"
   ],
   "outputs": [],
   "metadata": {}
  },
  {
   "cell_type": "code",
   "execution_count": null,
   "source": [
    "fern2 size = do\n",
    " setPenColor green\n",
    " setPenWidth 1\n",
    " if size < 0.2\n",
    "  then pure ()\n",
    "  else resetTurtle do\n",
    "   forward size\n",
    "   left 80\n",
    "   fern2 (0.3 * size)\n",
    "   right 82\n",
    "   forward size\n",
    "   right 80\n",
    "   fern2 (0.3 * size)\n",
    "   left 78\n",
    "   fern2 (0.9 * size)"
   ],
   "outputs": [],
   "metadata": {}
  },
  {
   "cell_type": "code",
   "execution_count": null,
   "source": [
    "turtle $ fern2 24"
   ],
   "outputs": [],
   "metadata": {}
  },
  {
   "cell_type": "code",
   "execution_count": null,
   "source": [
    "sierpinski 1 = triangle 1\n",
    "sierpinski n = s \n",
    "               ===\n",
    "               (s ||| s) # centerX\n",
    "    where s = sierpinski (n-1)"
   ],
   "outputs": [],
   "metadata": {}
  },
  {
   "cell_type": "code",
   "execution_count": null,
   "source": [
    "diagram $ sierpinski 4 # fc white # bg orange # lc black"
   ],
   "outputs": [],
   "metadata": {}
  },
  {
   "cell_type": "code",
   "execution_count": null,
   "source": [
    "diagram $ hcat (map circle [1..6])"
   ],
   "outputs": [],
   "metadata": {}
  },
  {
   "cell_type": "code",
   "execution_count": null,
   "source": [
    "diagram $ circle 1 ||| circle 2"
   ],
   "outputs": [],
   "metadata": {}
  },
  {
   "cell_type": "code",
   "execution_count": null,
   "source": [
    "diagram $ fromOffsets [unitX, unitY]"
   ],
   "outputs": [],
   "metadata": {}
  },
  {
   "cell_type": "code",
   "execution_count": null,
   "source": [
    "30 @@ deg"
   ],
   "outputs": [],
   "metadata": {}
  },
  {
   "cell_type": "code",
   "execution_count": null,
   "source": [
    "degree x = fromRat x @@ deg\n",
    ":t degree"
   ],
   "outputs": [],
   "metadata": {}
  },
  {
   "cell_type": "code",
   "execution_count": null,
   "source": [
    "diagram $ fromOffsets $ r2 ((1::Double), (1::Double))"
   ],
   "outputs": [],
   "metadata": {}
  },
  {
   "cell_type": "code",
   "execution_count": null,
   "source": [
    ":t 6/3 "
   ],
   "outputs": [],
   "metadata": {}
  },
  {
   "cell_type": "code",
   "execution_count": null,
   "source": [
    ":t iforM"
   ],
   "outputs": [],
   "metadata": {}
  },
  {
   "cell_type": "code",
   "execution_count": null,
   "source": [
    "or [True, False, False]"
   ],
   "outputs": [],
   "metadata": {}
  },
  {
   "cell_type": "code",
   "execution_count": null,
   "source": [
    "t = triangle 1 # fc yellow # lc orange # lw 10 \n",
    "          # dashing [10,10] 0\n",
    "          # scaleY 3\n",
    "          # rotateBy (1/9)\n",
    "          \n",
    "c = circle 1 # fc green\n",
    "\n",
    "diagram $ c \n",
    "         ===\n",
    "          t"
   ],
   "outputs": [],
   "metadata": {}
  },
  {
   "cell_type": "code",
   "execution_count": null,
   "source": [
    "circles = zipWith named [1::Int .. 6] $ repeat (circle 0.2 # fc green)\n",
    "dots = zipWith (<>) (map (fc white . scale 0.2 . text . show) [1..6]) circles\n",
    "hex = hexagon 1 # rotateBy (1/6) # reflectX # scaleX 1.5\n",
    "diagram $ atPoints hex dots\n",
    "--    # applyAll \n",
    "--      [ connectOutside' opts i j\n",
    "--      | i <- [1::Int .. 5]\n",
    "--      , j <- [i+1 .. 6]\n",
    "--      ]"
   ],
   "outputs": [],
   "metadata": {}
  },
  {
   "cell_type": "markdown",
   "source": [
    "Now you’ve started learning the Haskell programming\n",
    "language, which leads down\n",
    "a long road which will eventually take you to Homotopy Type Theory.\n",
    "\n",
    "But what’s next? Not Homotopy Type Theory. The next step is to read __Learn You a Haskell for Great Good!__"
   ],
   "metadata": {}
  }
 ],
 "metadata": {
  "kernelspec": {
   "display_name": "Haskell",
   "language": "haskell",
   "name": "haskell"
  },
  "language_info": {
   "file_extension": ".hs",
   "pygments_lexer": "Haskell",
   "mimetype": "text/x-haskell",
   "name": "haskell",
   "version": "8.10.4",
   "codemirror_mode": "ihaskell"
  }
 },
 "nbformat": 4,
 "nbformat_minor": 4
}