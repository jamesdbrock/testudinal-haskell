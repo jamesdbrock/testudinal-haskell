{
 "cells": [
  {
   "cell_type": "markdown",
   "metadata": {},
   "source": [
    "# Testudinal Haskell Notebook\n",
    "\n",
    "This notebook teaches Haskell programming to fifth-graders. It's mostly pretty easy, but you’ll need an adult to help you. Also, the adult\n",
    "will have to be an extreme nerd, because it’s a bit tricky to get this notebook running.\n",
    "\n",
    "Some people, especially adult computer programmers, may tell you that Haskell is really hard. Actually the opposite is true. Haskell is the easiest programming language to learn. If you've studied fractions in school, then you're ready to learn Haskell.\n",
    "\n",
    "“Testudinal” means “having to do with turtles.” This Haskell learning\n",
    "notebook has a lot to do with turtles, as you’ll see later on.\n",
    "\n",
    "You must run the following cell first, before running any other cells. \n",
    "\n",
    "Hold down <kbd>🡅 Shift</kbd> and press <kbd>↵ Enter</kbd> two times."
   ]
  },
  {
   "cell_type": "code",
   "execution_count": 553,
   "metadata": {},
   "outputs": [],
   "source": [
    "import Control.Monad (replicateM_)\n",
    "\n",
    "-- Boilerplate for diagrams\n",
    ":extension NoMonomorphismRestriction FlexibleContexts TypeFamilies \n",
    "import Diagrams.Prelude\n",
    "import Diagrams.TwoD.Path.Turtle\n",
    "import Diagrams.TwoD.Path.Turtle.Aliases\n",
    "\n",
    "-- Anyone who has studied fractions will expect numbers to work like this, and rightly so.\n",
    ":extension FlexibleInstances\n",
    "import Data.Ratio\n",
    "default (Rational, Integer, Double) -- https://www.haskell.org/tutorial/numbers.html\n",
    "instance {-# OVERLAPPING  #-} Show (Ratio Integer) where\n",
    "    showsPrec p x = case denominator x of\n",
    "        1 -> showsPrec p (numerator x)\n",
    "        _ -> showsPrec p (numerator x) . showString \"/\" . showsPrec p (denominator x)\n",
    "\n",
    "\n",
    "turtle x = diagram $ frame padding $ drawTurtle $ setPenWidth 4 *> innerdiagram\n",
    " where\n",
    "--  innerdiagram = left 90 *> x\n",
    "  innerdiagram = x\n",
    "  padding = maximum (boxExtents (boundingBox (diagram $ drawTurtle $ innerdiagram))) / 20"
   ]
  },
  {
   "cell_type": "markdown",
   "metadata": {},
   "source": [
    "# Running the Notebook Cells\n",
    "\n",
    "Here is a reference of keyboard commands. You'll want to look at this later. For now, just press <kbd>🡅 Shift</kbd><kbd>↵ Enter</kbd> again.\n",
    "\n",
    "| Keyboard Command | Action |\n",
    "|-------------:|---------------|\n",
    "|<kbd>🡅 Shift</kbd><kbd>↵ Enter</kbd> | Run the selected Jupyter cell and advance to the next cell |\n",
    "|<kbd>Ctrl</kbd><kbd>↵ Enter</kbd> | Run the selected Jupyter cell and don't advance |\n",
    "|<kbd>Alt</kbd><kbd>↵ Enter</kbd> | Run the selected Jupyter cell and insert a new cell after |\n",
    "|<kbd>↵ Enter</kbd> | Edit the selected Jupyter cell |\n",
    "|<kbd>Ctrl</kbd><kbd>🡅 Shift</kbd><kbd>-_</kbd> | Split the Jupyter cell at the cursor position |"
   ]
  },
  {
   "cell_type": "markdown",
   "metadata": {},
   "source": [
    "# Math and Numbers\n",
    "\n",
    "To start out with, the computer can calculate math.\n",
    "\n",
    "Keep pressing <kbd>🡅 Shift</kbd><kbd>↵ Enter</kbd> to see the computer calculate these numbers."
   ]
  },
  {
   "cell_type": "markdown",
   "metadata": {},
   "source": [
    "Add two numbers:"
   ]
  },
  {
   "cell_type": "code",
   "execution_count": 554,
   "metadata": {},
   "outputs": [
    {
     "data": {
      "text/plain": [
       "2"
      ]
     },
     "metadata": {},
     "output_type": "display_data"
    }
   ],
   "source": [
    "1+1"
   ]
  },
  {
   "cell_type": "markdown",
   "metadata": {},
   "source": [
    "Here's how to type “plus\": <kbd>🡅 Shift</kbd><kbd>=+</kbd>\n",
    "\n",
    "Try adding two numbers in this blank cell:"
   ]
  },
  {
   "cell_type": "code",
   "execution_count": null,
   "metadata": {},
   "outputs": [],
   "source": []
  },
  {
   "cell_type": "markdown",
   "metadata": {},
   "source": [
    "Subtract two numbers:"
   ]
  },
  {
   "cell_type": "code",
   "execution_count": 555,
   "metadata": {},
   "outputs": [
    {
     "data": {
      "text/plain": [
       "1"
      ]
     },
     "metadata": {},
     "output_type": "display_data"
    }
   ],
   "source": [
    "2-1"
   ]
  },
  {
   "cell_type": "markdown",
   "metadata": {},
   "source": [
    "Here's how to type “minus”: <kbd>-_</kbd>\n",
    "\n",
    "Try subtraction in this cell:"
   ]
  },
  {
   "cell_type": "code",
   "execution_count": null,
   "metadata": {},
   "outputs": [],
   "source": []
  },
  {
   "cell_type": "markdown",
   "metadata": {},
   "source": [
    "The multiplication sign is the “asterisk” `*` (instead of `×`).\n",
    "\n",
    "Multiply:"
   ]
  },
  {
   "cell_type": "code",
   "execution_count": 556,
   "metadata": {},
   "outputs": [
    {
     "data": {
      "text/plain": [
       "6"
      ]
     },
     "metadata": {},
     "output_type": "display_data"
    }
   ],
   "source": [
    "2*3"
   ]
  },
  {
   "cell_type": "markdown",
   "metadata": {},
   "source": [
    "Here's how to type “asterisk”: <kbd>🡅 Shift</kbd><kbd>8*</kbd>\n",
    " \n",
    "Try multiplying some numbers in this cell:"
   ]
  },
  {
   "cell_type": "code",
   "execution_count": null,
   "metadata": {},
   "outputs": [],
   "source": []
  },
  {
   "cell_type": "markdown",
   "metadata": {},
   "source": [
    "The division sign is the “forward slash” `/` (instead of `÷`).\n",
    "\n",
    "Divide:"
   ]
  },
  {
   "cell_type": "code",
   "execution_count": 557,
   "metadata": {},
   "outputs": [
    {
     "data": {
      "text/plain": [
       "3"
      ]
     },
     "metadata": {},
     "output_type": "display_data"
    }
   ],
   "source": [
    "6/2"
   ]
  },
  {
   "cell_type": "markdown",
   "metadata": {},
   "source": [
    "Here's how to type “forward slash”: <kbd>/?</kbd>\n",
    "\n",
    "Try dividing two numbers in this cell:"
   ]
  },
  {
   "cell_type": "code",
   "execution_count": null,
   "metadata": {},
   "outputs": [],
   "source": []
  },
  {
   "cell_type": "markdown",
   "metadata": {},
   "source": [
    "The computer is good at fractions, of course.\n",
    "\n",
    "One-third plus one-third plus one-third equals one."
   ]
  },
  {
   "cell_type": "code",
   "execution_count": 558,
   "metadata": {},
   "outputs": [
    {
     "data": {
      "text/plain": [
       "1"
      ]
     },
     "metadata": {},
     "output_type": "display_data"
    }
   ],
   "source": [
    "(1/3) + (1/3) + (1/3)"
   ]
  },
  {
   "cell_type": "markdown",
   "metadata": {},
   "source": [
    "Any time you want to insert a blank notebook cell to try something\n",
    "out, you can press <kbd>Alt</kbd><kbd>↵ Enter</kbd>."
   ]
  },
  {
   "cell_type": "markdown",
   "metadata": {},
   "source": [
    "# Variable names\n",
    "\n",
    "We can give names to numbers, to remember them. These names are called “variables”. We can say the name “alice” is equal to the number *3*. (The variable names must use lowercase letters, so we can’t name a variable “Alice”.)"
   ]
  },
  {
   "cell_type": "code",
   "execution_count": 559,
   "metadata": {},
   "outputs": [],
   "source": [
    "alice = 1+2"
   ]
  },
  {
   "cell_type": "code",
   "execution_count": 560,
   "metadata": {},
   "outputs": [
    {
     "data": {
      "text/plain": [
       "3"
      ]
     },
     "metadata": {},
     "output_type": "display_data"
    }
   ],
   "source": [
    "alice"
   ]
  },
  {
   "cell_type": "markdown",
   "metadata": {},
   "source": [
    "So then we can use the name “alice” to mean *3*."
   ]
  },
  {
   "cell_type": "code",
   "execution_count": 561,
   "metadata": {},
   "outputs": [
    {
     "data": {
      "text/plain": [
       "7"
      ]
     },
     "metadata": {},
     "output_type": "display_data"
    }
   ],
   "source": [
    "alice + 4"
   ]
  },
  {
   "cell_type": "markdown",
   "metadata": {},
   "source": [
    "# Functions\n",
    "\n",
    "A __function__ is a little computer program.\n",
    "\n",
    "A function has “arguments”, which means stuff that goes into the function before it starts, and “results,” which means stuff that comes out of the function after it finishes.\n",
    "\n",
    "You can write a function, then give the function some argument variables. The function has a name, and each argument variable has a name.\n",
    "\n",
    "Here is a function named `doubleplus`, with two arguments, named `x` and `y`."
   ]
  },
  {
   "cell_type": "code",
   "execution_count": 562,
   "metadata": {},
   "outputs": [],
   "source": [
    "doubleplus x y = 2 * x + y"
   ]
  },
  {
   "cell_type": "markdown",
   "metadata": {},
   "source": [
    "Now we can “call” the function, which means to give it some arguments, and then it will run its program, and show us the result.\n",
    "\n",
    "Let's call the `doubleplus` function with arguments `x=1`, and `y=2`."
   ]
  },
  {
   "cell_type": "code",
   "execution_count": 563,
   "metadata": {},
   "outputs": [
    {
     "data": {
      "text/plain": [
       "4"
      ]
     },
     "metadata": {},
     "output_type": "display_data"
    }
   ],
   "source": [
    "doubleplus 1 2"
   ]
  },
  {
   "cell_type": "markdown",
   "metadata": {},
   "source": [
    "So `doubleplus 1 2` is equal to `2 * 1 + 2` and the result is `4`, that checks out."
   ]
  },
  {
   "cell_type": "code",
   "execution_count": 564,
   "metadata": {},
   "outputs": [
    {
     "data": {
      "text/plain": [
       "7"
      ]
     },
     "metadata": {},
     "output_type": "display_data"
    }
   ],
   "source": [
    "doubleplus 2 3"
   ]
  },
  {
   "cell_type": "markdown",
   "metadata": {},
   "source": [
    "What did `doubleplus` calculate first, the `2 * x` or the `x + y` ? \n",
    "\n",
    "It calculated the `2 * x` first. If we want to make it calculate the `x + y` first, then we can put parentheses around the `x + y`."
   ]
  },
  {
   "cell_type": "code",
   "execution_count": 565,
   "metadata": {},
   "outputs": [],
   "source": [
    "doubleplusgood x y = 2 * (x + y)"
   ]
  },
  {
   "cell_type": "code",
   "execution_count": 566,
   "metadata": {},
   "outputs": [
    {
     "data": {
      "text/plain": [
       "6"
      ]
     },
     "metadata": {},
     "output_type": "display_data"
    }
   ],
   "source": [
    "doubleplusgood 1 2"
   ]
  },
  {
   "cell_type": "code",
   "execution_count": 567,
   "metadata": {},
   "outputs": [
    {
     "data": {
      "text/plain": [
       "10"
      ]
     },
     "metadata": {},
     "output_type": "display_data"
    }
   ],
   "source": [
    "doubleplusgood 2 3"
   ]
  },
  {
   "cell_type": "markdown",
   "metadata": {},
   "source": [
    "Try writing a new function with two arguments, like `morefun x y = x + x + y`:"
   ]
  },
  {
   "cell_type": "code",
   "execution_count": null,
   "metadata": {},
   "outputs": [],
   "source": []
  },
  {
   "cell_type": "markdown",
   "metadata": {},
   "source": [
    "Now call your function with arguments, like `morefun 1 2`:"
   ]
  },
  {
   "cell_type": "code",
   "execution_count": null,
   "metadata": {},
   "outputs": [],
   "source": []
  },
  {
   "cell_type": "markdown",
   "metadata": {},
   "source": [
    "# Letters, characters, and strings\n",
    "\n",
    "A “character” is a one letter in single quotes, like this: `'I'`."
   ]
  },
  {
   "cell_type": "code",
   "execution_count": 594,
   "metadata": {},
   "outputs": [
    {
     "data": {
      "text/plain": [
       "'I'"
      ]
     },
     "metadata": {},
     "output_type": "display_data"
    }
   ],
   "source": [
    "'I'"
   ]
  },
  {
   "cell_type": "markdown",
   "metadata": {},
   "source": [
    "A “string” means a string of letters in double-quotes, like this: `\"I am a string.\"`"
   ]
  },
  {
   "cell_type": "code",
   "execution_count": 595,
   "metadata": {},
   "outputs": [
    {
     "data": {
      "text/plain": [
       "\"I am a string.\""
      ]
     },
     "metadata": {},
     "output_type": "display_data"
    }
   ],
   "source": [
    "\"I am a string.\""
   ]
  },
  {
   "cell_type": "markdown",
   "metadata": {},
   "source": [
    "A string can be an argument going into a function or a result coming out of a function.\n",
    "\n",
    "The function `head` takes a string of characters as an argument, and the result is the first character in the string."
   ]
  },
  {
   "cell_type": "code",
   "execution_count": 569,
   "metadata": {},
   "outputs": [
    {
     "data": {
      "text/plain": [
       "'I'"
      ]
     },
     "metadata": {},
     "output_type": "display_data"
    }
   ],
   "source": [
    "head \"I am a string.\""
   ]
  },
  {
   "cell_type": "markdown",
   "metadata": {},
   "source": [
    "We can stick two strings together with the `<>` symbol, which is like `+` but for strings instead of numbers.\n",
    "\n",
    "Here's how to type the `<>` symbol: <kbd>🡅 Shift</kbd><kbd>,<</kbd> <kbd>🡅 Shift</kbd><kbd>.></kbd>"
   ]
  },
  {
   "cell_type": "code",
   "execution_count": 570,
   "metadata": {},
   "outputs": [
    {
     "data": {
      "text/plain": [
       "\"I am ... a string.\""
      ]
     },
     "metadata": {},
     "output_type": "display_data"
    }
   ],
   "source": [
    "\"I am ... \" <> \"a string.\""
   ]
  },
  {
   "cell_type": "markdown",
   "metadata": {},
   "source": [
    "# CAPTAIN UNDERPANTS #4\n",
    "\n",
    "### And The Perilous Plot of Professor Poopypants\n",
    "\n",
    "Copyright © Dav Pilkey, 1999\n",
    "\n",
    "### CHAPTER 15 \n",
    "### THE NAME CHANGE-O-CHART 2000\n",
    "\n",
    "p.91 — p.92\n",
    "\n",
    "<img src=\"tinkletrousers/ttname1.jpg\" style=\"width:300px;\"/><img src=\"tinkletrousers/ttname2.jpg\" style=\"width:300px;\"/><img src=\"tinkletrousers/ttname3.jpg\" style=\"width:300px;\"/>\n",
    "\n",
    "Professor Poopypants gives these charts with some rules for how everyone on Earth must change their name into a silly name.\n",
    "\n",
    "* Take the first letter of your first name, and look it up in Chart 1.\n",
    "* Take the first letter of your last name, and look it up in Chart 2.\n",
    "* Take the last letter of your last name, and look it up in Chart 3.\n",
    "\n",
    "The result is your silly name.\n",
    "\n",
    "We can write a function to change names into silly names. First, we'll write three functions, one for each chart. We'll name our functions `chart1`, `chart2`, and `chart3`."
   ]
  },
  {
   "cell_type": "code",
   "execution_count": 592,
   "metadata": {},
   "outputs": [],
   "source": [
    "chart1 'A' = \"Stinky\"\n",
    "chart1 'B' = \"Lumpy\"\n",
    "chart1 'C' = \"Buttercup\"\n",
    "chart1 'D' = \"Gidget\"\n",
    "chart1 'E' = \"Crusty\"\n",
    "chart1 'F' = \"Greasy\"\n",
    "chart1 'G' = \"Fluffy\"\n",
    "chart1 'H' = \"Cheeseball\"\n",
    "chart1 'I' = \"Chim-Chim\"\n",
    "chart1 'J' = \"Poopsie\"\n",
    "chart1 'K' = \"Flunky\"\n",
    "chart1 'L' = \"Booger\"\n",
    "chart1 'M' = \"Pinky\"\n",
    "chart1 'N' = \"Zippy\"\n",
    "chart1 'O' = \"Goober\"\n",
    "chart1 'P' = \"Doofus\"\n",
    "chart1 'Q' = \"Slimey\"\n",
    "chart1 'R' = \"Loopy\"\n",
    "chart1 'S' = \"Snotty\"\n",
    "chart1 'T' = \"Falafel\"\n",
    "chart1 'U' = \"Dorky\"\n",
    "chart1 'V' = \"Squeezit\"\n",
    "chart1 'W' = \"Oprah\"\n",
    "chart1 'X' = \"Skipper\"\n",
    "chart1 'Y' = \"Dinky\"\n",
    "chart1 'Z' = \"Zsa-Zsa\"\n",
    "chart1 _   = \"???\""
   ]
  },
  {
   "cell_type": "markdown",
   "metadata": {},
   "source": [
    "Notice how we keep writing the same `chart1` function over and over with different argument characters. This is called “pattern matching.” When we call the `chart1` function with a character, the result will be the word that matches the character."
   ]
  },
  {
   "cell_type": "code",
   "execution_count": 596,
   "metadata": {},
   "outputs": [],
   "source": [
    "chart2 'A' = \"Diaper\"\n",
    "chart2 'B' = \"Toilet\"\n",
    "chart2 'C' = \"Giggle\"\n",
    "chart2 'D' = \"Bubble\"\n",
    "chart2 'E' = \"Girdle\"\n",
    "chart2 'F' = \"Barf\"\n",
    "chart2 'G' = \"Lizard\"\n",
    "chart2 'H' = \"Waffle\"\n",
    "chart2 'I' = \"Cootie\"\n",
    "chart2 'J' = \"Monkey\"\n",
    "chart2 'K' = \"Potty\"\n",
    "chart2 'L' = \"Liver\"\n",
    "chart2 'M' = \"Banana\"\n",
    "chart2 'N' = \"Rhino\"\n",
    "chart2 'O' = \"Burger\"\n",
    "chart2 'P' = \"Hamster\"\n",
    "chart2 'Q' = \"Toad\"\n",
    "chart2 'R' = \"Gizzard\"\n",
    "chart2 'S' = \"Pizza\"\n",
    "chart2 'T' = \"Gerbil\"\n",
    "chart2 'U' = \"Chicken\"\n",
    "chart2 'V' = \"Pickle\"\n",
    "chart2 'W' = \"Chuckle\"\n",
    "chart2 'X' = \"Tofu\"\n",
    "chart2 'Y' = \"Gorilla\"\n",
    "chart2 'Z' = \"Stinker\"\n",
    "chart2 _   = \"???\"\n",
    "\n",
    "chart3 'A' = \"Head\"\n",
    "chart3 'B' = \"Mouth\"\n",
    "chart3 'C' = \"Face\"\n",
    "chart3 'D' = \"Nose\"\n",
    "chart3 'E' = \"Tush\"\n",
    "chart3 'F' = \"Breath\"\n",
    "chart3 'G' = \"Pants\"\n",
    "chart3 'H' = \"Shorts\"\n",
    "chart3 'I' = \"Lips\"\n",
    "chart3 'J' = \"Honker\"\n",
    "chart3 'K' = \"Butt\"\n",
    "chart3 'L' = \"Brain\"\n",
    "chart3 'M' = \"Tushie\"\n",
    "chart3 'N' = \"Chunks\"\n",
    "chart3 'O' = \"Hiney\"\n",
    "chart3 'P' = \"Biscuits\"\n",
    "chart3 'Q' = \"Toes\"\n",
    "chart3 'R' = \"Buns\"\n",
    "chart3 'S' = \"Fanny\"\n",
    "chart3 'T' = \"Sniffer\"\n",
    "chart3 'U' = \"Sprinkles\"\n",
    "chart3 'V' = \"Kisser\"\n",
    "chart3 'W' = \"Squirt\"\n",
    "chart3 'X' = \"Humperdinck\"\n",
    "chart3 'Y' = \"Brains\"\n",
    "chart3 'Z' = \"Juice\"\n",
    "chart3 _   = \"???\""
   ]
  },
  {
   "cell_type": "markdown",
   "metadata": {},
   "source": [
    "The function `words` splits a string up into a list of separate words."
   ]
  },
  {
   "cell_type": "code",
   "execution_count": 572,
   "metadata": {},
   "outputs": [
    {
     "data": {
      "text/plain": [
       "[\"Professor\",\"Poopypants\"]"
      ]
     },
     "metadata": {},
     "output_type": "display_data"
    }
   ],
   "source": [
    "words \"Professor Poopypants\""
   ]
  },
  {
   "cell_type": "markdown",
   "metadata": {},
   "source": [
    "Here's a new thing: lists. We can make a list with square brackets\n",
    "`[` `]` and commas `,`.\n",
    "\n",
    "Here's a list of numbers:"
   ]
  },
  {
   "cell_type": "code",
   "execution_count": 573,
   "metadata": {},
   "outputs": [
    {
     "data": {
      "text/plain": [
       "[1,2,1000]"
      ]
     },
     "metadata": {},
     "output_type": "display_data"
    }
   ],
   "source": [
    "[1,2,1000]"
   ]
  },
  {
   "cell_type": "markdown",
   "metadata": {},
   "source": [
    "Here's a list of characters, which is actually what a string is:"
   ]
  },
  {
   "cell_type": "code",
   "execution_count": 574,
   "metadata": {},
   "outputs": [
    {
     "data": {
      "text/plain": [
       "\"I am a string.\""
      ]
     },
     "metadata": {},
     "output_type": "display_data"
    }
   ],
   "source": [
    "['I',' ','a','m',' ','a',' ','s','t','r','i','n','g','.']"
   ]
  },
  {
   "cell_type": "markdown",
   "metadata": {},
   "source": [
    "Now we’ll write some helper functions. We’ll use the function `head`, which returns the first thing in a list, and the function `last`, which returns the last thing in a list.\n",
    "\n",
    "The function `firstname` will return the first name from a name.\n",
    "\n",
    "The function `lastname` will return the last name from a name."
   ]
  },
  {
   "cell_type": "code",
   "execution_count": 575,
   "metadata": {},
   "outputs": [],
   "source": [
    "firstname name = head (words name)\n",
    "lastname name = last (words name)"
   ]
  },
  {
   "cell_type": "code",
   "execution_count": 576,
   "metadata": {},
   "outputs": [
    {
     "data": {
      "text/plain": [
       "\"Professor\""
      ]
     },
     "metadata": {},
     "output_type": "display_data"
    }
   ],
   "source": [
    "firstname \"Professor Poopypants\""
   ]
  },
  {
   "cell_type": "code",
   "execution_count": 577,
   "metadata": {},
   "outputs": [
    {
     "data": {
      "text/plain": [
       "\"Poopypants\""
      ]
     },
     "metadata": {},
     "output_type": "display_data"
    }
   ],
   "source": [
    "lastname \"Professor Poopypants\""
   ]
  },
  {
   "cell_type": "markdown",
   "metadata": {},
   "source": [
    "We need to use this function called `toUpper` which takes a character\n",
    "and returns the same character, but uppercase. Because the `chart` functions only work with uppercase characters."
   ]
  },
  {
   "cell_type": "code",
   "execution_count": 583,
   "metadata": {},
   "outputs": [
    {
     "data": {
      "text/plain": [
       "'A'"
      ]
     },
     "metadata": {},
     "output_type": "display_data"
    }
   ],
   "source": [
    "import Data.Char (toUpper)\n",
    "\n",
    "toUpper 'a'"
   ]
  },
  {
   "cell_type": "markdown",
   "metadata": {},
   "source": [
    "Now the tricky bit, writing the `sillyname` function."
   ]
  },
  {
   "cell_type": "code",
   "execution_count": 584,
   "metadata": {},
   "outputs": [],
   "source": [
    "sillyname name = chart1 (toUpper (head (firstname name))) \n",
    "                 <> \" \" \n",
    "                 <> chart2 (toUpper (head (lastname name))) \n",
    "                 <> chart3 (toUpper (last (lastname name)))"
   ]
  },
  {
   "cell_type": "code",
   "execution_count": 590,
   "metadata": {},
   "outputs": [
    {
     "data": {
      "text/plain": [
       "\"Doofus HamsterFanny\""
      ]
     },
     "metadata": {},
     "output_type": "display_data"
    }
   ],
   "source": [
    "sillyname \"Professor Poopypants\""
   ]
  },
  {
   "cell_type": "markdown",
   "metadata": {},
   "source": [
    "But what's the silly name for `\"Doofus HamsterFanny\"`? We can \n",
    "call the `sillyname` function again to find out."
   ]
  },
  {
   "cell_type": "code",
   "execution_count": 591,
   "metadata": {},
   "outputs": [
    {
     "data": {
      "text/plain": [
       "\"Gidget WaffleBrains\""
      ]
     },
     "metadata": {},
     "output_type": "display_data"
    }
   ],
   "source": [
    "sillyname (sillyname \"Professor Poopypants\")"
   ]
  },
  {
   "cell_type": "markdown",
   "metadata": {},
   "source": [
    "Obviously you want to know your own silly name. Call the `sillyname`\n",
    "function in this cell:"
   ]
  },
  {
   "cell_type": "code",
   "execution_count": null,
   "metadata": {},
   "outputs": [],
   "source": []
  },
  {
   "cell_type": "markdown",
   "metadata": {},
   "source": [
    "# Doing IO Actions\n",
    "\n",
    "“IO” stands for “Input Output” and it’s pronounced “eye-oh”.\n",
    "\n",
    "An IO action is a special kind of function. It's special because for this kind of function, the sequence of the actions matters. The word “sequence” means “one thing comes before, and one thing comes after.”\n",
    "\n",
    "Sometimes we want to tell the computer to first do one action, and then next do another action. This is called __IO action sequencing__.\n",
    "\n",
    "To sequence IO actions, we write `do` and then the list of actions, one on each line, like this. The actions must be indented with a space, so that we know they all belong to the same `do` IO action block.\n",
    "\n",
    "```\n",
    "do\n",
    " action 1\n",
    " action 2\n",
    "```\n",
    "\n",
    "The way that we tell the computer to print a string is the `putStr` IO action function. The `putStr` function must be in a `do` IO action block, for action sequencing."
   ]
  },
  {
   "cell_type": "code",
   "execution_count": 502,
   "metadata": {},
   "outputs": [
    {
     "data": {
      "text/plain": [
       "I am ... two strings."
      ]
     },
     "metadata": {},
     "output_type": "display_data"
    }
   ],
   "source": [
    "do\n",
    " putStr \"I am ...\"\n",
    " putStr \" two strings.\""
   ]
  },
  {
   "cell_type": "markdown",
   "metadata": {},
   "source": [
    "The action to start printing on the next line is `putStrLn \"\"`, which is pronounced “put string line.”"
   ]
  },
  {
   "cell_type": "code",
   "execution_count": 503,
   "metadata": {},
   "outputs": [
    {
     "data": {
      "text/plain": [
       "I am ...\n",
       " two strings."
      ]
     },
     "metadata": {},
     "output_type": "display_data"
    }
   ],
   "source": [
    "do\n",
    " putStr \"I am ...\"\n",
    " putStrLn \"\"\n",
    " putStr \" two strings.\""
   ]
  },
  {
   "cell_type": "markdown",
   "metadata": {},
   "source": [
    "To make the computer repeat an action, we use the `replicateM_` function. With `replicateM_` we can start an inner `do` action block.\n",
    "\n",
    "Notice that the inner `do` needs a dollar sign `$` in front of it.\n",
    "\n",
    "Notice that the inner `do` IO action block needs two spaces indented."
   ]
  },
  {
   "cell_type": "code",
   "execution_count": 504,
   "metadata": {},
   "outputs": [
    {
     "data": {
      "text/plain": [
       "act \n",
       "act \n",
       "act"
      ]
     },
     "metadata": {},
     "output_type": "display_data"
    }
   ],
   "source": [
    "do\n",
    " replicateM_ 3 $ do\n",
    "  putStr \"act \"\n",
    "  putStrLn \"\""
   ]
  },
  {
   "cell_type": "markdown",
   "metadata": {},
   "source": [
    "# Turtle Drawing with IO Actions"
   ]
  },
  {
   "cell_type": "markdown",
   "metadata": {},
   "source": [
    "Let's draw in the notebook. To draw, we use an imaginary pen which\n",
    "we call “the turtle.”\n",
    "\n",
    "The turtle starts at the left side of the page, pointing to the right. We use IO action functions\n",
    "to tell it what to draw.\n",
    "\n",
    "Let’s say:\n",
    "* Go forward 2 steps\n",
    "* Turn right 90 degrees\n",
    "* Go forward 1 step\n",
    "* Turn right 90 degrees\n",
    "* Go forward 1 step"
   ]
  },
  {
   "cell_type": "code",
   "execution_count": 531,
   "metadata": {},
   "outputs": [
    {
     "data": {
      "image/png": "[encoded data removed]",
      "image/svg+xml": [
       "<?xml version=\"1.0\" encoding=\"UTF-8\"?>\n",
       "<svg xmlns=\"http://www.w3.org/2000/svg\" xmlns:xlink=\"http://www.w3.org/1999/xlink\" width=\"438.947786pt\" height=\"239.426065pt\" viewBox=\"0 0 438.947786 239.426065\" version=\"1.1\">\n",
       "<g id=\"surface848\">\n",
       "<path style=\"fill:none;stroke-width:4;stroke-linecap:butt;stroke-linejoin:miter;stroke:rgb(0%,0%,0%);stroke-opacity:1;stroke-miterlimit:10;\" d=\"M 19.953125 19.953125 L 418.996094 19.953125 L 418.996094 219.476562 L 219.472656 219.476562 \"/>\n",
       "</g>\n",
       "</svg>\n"
      ]
     },
     "metadata": {},
     "output_type": "display_data"
    }
   ],
   "source": [
    "turtle $ do\n",
    " forward 2\n",
    " right 90\n",
    " forward 1\n",
    " right 90\n",
    " forward 1"
   ]
  },
  {
   "cell_type": "markdown",
   "metadata": {},
   "source": [
    "Here's how to draw a star:"
   ]
  },
  {
   "cell_type": "code",
   "execution_count": 597,
   "metadata": {},
   "outputs": [
    {
     "data": {
      "text/html": [
       "<style>/* Styles used for the Hoogle display in the pager */\n",
       ".hoogle-doc {\n",
       "display: block;\n",
       "padding-bottom: 1.3em;\n",
       "padding-left: 0.4em;\n",
       "}\n",
       ".hoogle-code {\n",
       "display: block;\n",
       "font-family: monospace;\n",
       "white-space: pre;\n",
       "}\n",
       ".hoogle-text {\n",
       "display: block;\n",
       "}\n",
       ".hoogle-name {\n",
       "color: green;\n",
       "font-weight: bold;\n",
       "}\n",
       ".hoogle-head {\n",
       "font-weight: bold;\n",
       "}\n",
       ".hoogle-sub {\n",
       "display: block;\n",
       "margin-left: 0.4em;\n",
       "}\n",
       ".hoogle-package {\n",
       "font-weight: bold;\n",
       "font-style: italic;\n",
       "}\n",
       ".hoogle-module {\n",
       "font-weight: bold;\n",
       "}\n",
       ".hoogle-class {\n",
       "font-weight: bold;\n",
       "}\n",
       ".get-type {\n",
       "color: green;\n",
       "font-weight: bold;\n",
       "font-family: monospace;\n",
       "display: block;\n",
       "white-space: pre-wrap;\n",
       "}\n",
       ".show-type {\n",
       "color: green;\n",
       "font-weight: bold;\n",
       "font-family: monospace;\n",
       "margin-left: 1em;\n",
       "}\n",
       ".mono {\n",
       "font-family: monospace;\n",
       "display: block;\n",
       "}\n",
       ".err-msg {\n",
       "color: red;\n",
       "font-style: italic;\n",
       "font-family: monospace;\n",
       "white-space: pre;\n",
       "display: block;\n",
       "}\n",
       "#unshowable {\n",
       "color: red;\n",
       "font-weight: bold;\n",
       "}\n",
       ".err-msg.in.collapse {\n",
       "padding-top: 0.7em;\n",
       "}\n",
       ".highlight-code {\n",
       "white-space: pre;\n",
       "font-family: monospace;\n",
       "}\n",
       ".suggestion-warning { \n",
       "font-weight: bold;\n",
       "color: rgb(200, 130, 0);\n",
       "}\n",
       ".suggestion-error { \n",
       "font-weight: bold;\n",
       "color: red;\n",
       "}\n",
       ".suggestion-name {\n",
       "font-weight: bold;\n",
       "}\n",
       "</style><div class=\"suggestion-name\" style=\"clear:both;\">Reduce duplication</div><div class=\"suggestion-row\" style=\"float: left;\"><div class=\"suggestion-warning\">Found:</div><div class=\"highlight-code\" id=\"haskell\">forward 1\n",
       "right (360 * (2 / 5))\n",
       "forward 1\n",
       "right (360 * (2 / 5))\n",
       "</div></div><div class=\"suggestion-row\" style=\"float: left;\"><div class=\"suggestion-warning\">Why Not:</div><div class=\"highlight-code\" id=\"haskell\">Combine with -:6:3-11</div></div>"
      ],
      "text/plain": [
       "Line 2: Reduce duplication\n",
       "Found:\n",
       "forward 1\n",
       "right (360 * (2 / 5))\n",
       "forward 1\n",
       "right (360 * (2 / 5))\n",
       "\n",
       "Why not:\n",
       "Combine with -:6:3-11"
      ]
     },
     "metadata": {},
     "output_type": "display_data"
    },
    {
     "data": {
      "image/png": "[encoded data removed]",
      "image/svg+xml": [
       "<?xml version=\"1.0\" encoding=\"UTF-8\"?>\n",
       "<svg xmlns=\"http://www.w3.org/2000/svg\" xmlns:xlink=\"http://www.w3.org/1999/xlink\" width=\"361.504307pt\" height=\"345.419507pt\" viewBox=\"0 0 361.504307 345.419507\" version=\"1.1\">\n",
       "<g id=\"surface902\">\n",
       "<path style=\"fill:none;stroke-width:4;stroke-linecap:butt;stroke-linejoin:miter;stroke:rgb(0%,0%,0%);stroke-opacity:1;stroke-miterlimit:10;\" d=\"M 16.433594 135.816406 L 345.074219 135.816406 L 79.199219 328.984375 L 180.753906 16.429688 L 282.308594 328.984375 L 16.433594 135.816406 \"/>\n",
       "</g>\n",
       "</svg>\n"
      ]
     },
     "metadata": {},
     "output_type": "display_data"
    }
   ],
   "source": [
    "turtle $ do\n",
    "  forward 1\n",
    "  right (360*(2/5))\n",
    "  forward 1\n",
    "  right (360*(2/5))\n",
    "  forward 1\n",
    "  right (360*(2/5))\n",
    "  forward 1\n",
    "  right (360*(2/5))\n",
    "  forward 1\n",
    "  right (360*(2/5))"
   ]
  },
  {
   "cell_type": "markdown",
   "metadata": {},
   "source": [
    "The computer is suggesting that we ”Reduce duplication,” which means\n",
    "we don't need to repeat what we wrote so many times. We can use\n",
    "`replicateM_` to repeat our actions."
   ]
  },
  {
   "cell_type": "code",
   "execution_count": 598,
   "metadata": {},
   "outputs": [
    {
     "data": {
      "image/png": "[encoded data removed]",
      "image/svg+xml": [
       "<?xml version=\"1.0\" encoding=\"UTF-8\"?>\n",
       "<svg xmlns=\"http://www.w3.org/2000/svg\" xmlns:xlink=\"http://www.w3.org/1999/xlink\" width=\"361.504307pt\" height=\"345.419507pt\" viewBox=\"0 0 361.504307 345.419507\" version=\"1.1\">\n",
       "<g id=\"surface908\">\n",
       "<path style=\"fill:none;stroke-width:4;stroke-linecap:butt;stroke-linejoin:miter;stroke:rgb(0%,0%,0%);stroke-opacity:1;stroke-miterlimit:10;\" d=\"M 16.433594 135.816406 L 345.074219 135.816406 L 79.199219 328.984375 L 180.753906 16.429688 L 282.308594 328.984375 L 16.433594 135.816406 \"/>\n",
       "</g>\n",
       "</svg>\n"
      ]
     },
     "metadata": {},
     "output_type": "display_data"
    }
   ],
   "source": [
    "turtle $ do\n",
    " replicateM_ 5 $ do\n",
    "  forward 1\n",
    "  right (360*(2/5))"
   ]
  },
  {
   "cell_type": "markdown",
   "metadata": {},
   "source": [
    "The action that makes the turtle do nothing is called `pure ()`."
   ]
  },
  {
   "cell_type": "markdown",
   "metadata": {},
   "source": []
  },
  {
   "cell_type": "markdown",
   "metadata": {},
   "source": [
    "Diagrams Prelude\n",
    "https://hackage.haskell.org/package/diagrams-lib-1.4.3/docs/Diagrams-Prelude.html\n",
    "\n",
    "Turtle reference\n",
    "http://hackage.haskell.org/package/diagrams-contrib-1.4.4/docs/Diagrams-TwoD-Path-Turtle.html\n",
    "\n",
    "Color names\n",
    "https://hackage.haskell.org/package/colour-2.3.5/docs/Data-Colour-Names.html"
   ]
  },
  {
   "cell_type": "code",
   "execution_count": 195,
   "metadata": {},
   "outputs": [],
   "source": [
    "spiral distance angle \n",
    "    | distance < 1 = pure ()\n",
    "    | otherwise = do\n",
    "        forward distance\n",
    "        left angle\n",
    "        spiral (distance * (19/20)) angle"
   ]
  },
  {
   "cell_type": "code",
   "execution_count": 197,
   "metadata": {},
   "outputs": [
    {
     "data": {
      "image/png": "[encoded data removed]",
      "image/svg+xml": [
       "<?xml version=\"1.0\" encoding=\"UTF-8\"?>\n",
       "<svg xmlns=\"http://www.w3.org/2000/svg\" xmlns:xlink=\"http://www.w3.org/1999/xlink\" width=\"413.384182pt\" height=\"281.271254pt\" viewBox=\"0 0 413.384182 281.271254\" version=\"1.1\">\n",
       "<g id=\"surface626\">\n",
       "<path style=\"fill:none;stroke-width:4;stroke-linecap:butt;stroke-linejoin:miter;stroke:rgb(50.196078%,0%,50.196078%);stroke-opacity:1;stroke-miterlimit:10;\" d=\"M 18.789062 228.847656 L 49.019531 228.847656 L 77.210938 223.367188 L 102.507812 213.148438 L 124.246094 199.03125 L 141.957031 181.925781 L 155.375 162.765625 L 164.414062 142.464844 L 169.164062 121.894531 L 169.863281 101.851562 L 166.882812 83.035156 L 160.691406 66.027344 L 151.835938 51.289062 L 140.90625 39.148438 L 128.511719 29.808594 L 115.261719 23.347656 L 101.734375 19.722656 L 88.460938 18.792969 L 75.914062 20.332031 L 64.492188 24.042969 L 54.515625 29.574219 L 46.214844 36.539062 L 39.734375 44.539062 L 35.144531 53.175781 L 32.429688 62.0625 L 31.507812 70.839844 L 32.238281 79.195312 L 34.433594 86.851562 L 37.871094 93.59375 L 42.296875 99.257812 L 47.453125 103.738281 L 53.074219 106.984375 L 58.902344 108.992188 L 64.703125 109.808594 L 70.257812 109.515625 L 75.386719 108.238281 L 79.9375 106.117188 L 83.796875 103.3125 L 86.886719 100 L 89.167969 96.347656 L 90.632812 92.53125 L 91.308594 88.707031 L 91.246094 85.015625 L 90.515625 81.585938 L 89.214844 78.519531 L 87.445312 75.894531 L 85.320312 73.769531 L 82.953125 72.171875 L 80.457031 71.113281 L 77.9375 70.578125 L 75.488281 70.535156 L 73.199219 70.9375 L 71.136719 71.730469 L 69.355469 72.84375 L 67.898438 74.203125 L 66.785156 75.734375 L 66.023438 77.367188 L 65.609375 79.027344 L 65.523438 80.648438 L 65.738281 82.175781 L 66.214844 83.5625 L 66.910156 84.769531 L 67.777344 85.769531 L 68.769531 86.542969 L 69.832031 87.085938 L 70.921875 87.398438 L 71.996094 87.492188 L 73.015625 87.386719 L 73.945312 87.101562 L 74.761719 86.667969 L 75.445312 86.117188 L 75.980469 85.476562 L 76.363281 84.785156 L 76.597656 84.070312 L 76.683594 83.359375 L 76.636719 82.683594 L 76.46875 82.058594 L 76.199219 81.507812 L 75.847656 81.042969 L 75.4375 80.671875 L 74.988281 80.402344 L 74.519531 80.230469 L 74.050781 80.15625 L 73.601562 80.171875 L 73.183594 80.269531 L 72.8125 80.433594 L 72.496094 80.65625 L 72.242188 80.921875 L 72.050781 81.214844 L 71.925781 81.523438 L 71.867188 81.832031 \"/>\n",
       "<path style=\"fill:none;stroke-width:4;stroke-linecap:butt;stroke-linejoin:miter;stroke:rgb(100%,64.705882%,0%);stroke-opacity:1;stroke-miterlimit:10;\" d=\"M 71.851562 81.820312 L 71.851562 112.050781 L 77.824219 140.140625 L 88.921875 165.066406 L 104.15625 186.035156 L 122.453125 202.511719 L 142.710938 214.207031 L 163.84375 221.074219 L 184.839844 223.28125 L 204.785156 221.183594 L 222.90625 215.296875 L 238.582031 206.246094 L 251.359375 194.738281 L 260.960938 181.523438 L 267.273438 167.347656 L 270.339844 152.925781 L 270.339844 138.921875 L 267.574219 125.90625 L 262.433594 114.359375 L 255.375 104.644531 L 246.898438 97.011719 L 237.511719 91.59375 L 227.71875 88.414062 L 217.992188 87.390625 L 208.75 88.363281 L 200.355469 91.089844 L 193.09375 95.28125 L 187.171875 100.613281 L 182.722656 106.734375 L 179.796875 113.300781 L 178.375 119.980469 L 178.375 126.46875 L 179.65625 132.5 L 182.039062 137.851562 L 185.308594 142.351562 L 189.234375 145.886719 L 193.582031 148.398438 L 198.117188 149.871094 L 202.625 150.34375 L 206.90625 149.894531 L 210.796875 148.628906 L 214.160156 146.6875 L 216.902344 144.21875 L 218.964844 141.382812 L 220.320312 138.339844 L 220.976562 135.246094 L 220.976562 132.238281 L 220.382812 129.445312 L 219.28125 126.96875 L 217.765625 124.882812 L 215.945312 123.246094 L 213.929688 122.082031 L 211.828125 121.398438 L 209.742188 121.179688 L 207.757812 121.386719 L 205.957031 121.972656 L 204.398438 122.871094 L 203.128906 124.015625 L 202.175781 125.328125 L 201.546875 126.738281 L 201.242188 128.171875 L 201.242188 129.566406 L 201.515625 130.859375 L 202.027344 132.007812 L 202.730469 132.972656 L 203.574219 133.730469 L 204.507812 134.269531 L 205.480469 134.585938 L 206.449219 134.6875 L 207.367188 134.589844 L 208.203125 134.320312 L 208.925781 133.902344 L 209.515625 133.371094 L 209.957031 132.761719 L 210.246094 132.109375 L 210.386719 131.445312 L 210.386719 130.800781 L 210.257812 130.203125 L 210.019531 129.671875 L 209.695312 129.222656 L 209.304688 128.871094 L 208.871094 128.621094 L 208.421875 128.472656 L 207.972656 128.425781 L 207.546875 128.46875 L 207.160156 128.59375 L 206.824219 128.785156 L 206.550781 129.03125 L 206.347656 129.3125 L 206.214844 129.613281 L 206.148438 129.921875 \"/>\n",
       "<path style=\"fill:none;stroke-width:4;stroke-linecap:butt;stroke-linejoin:miter;stroke:rgb(69.803922%,13.333333%,13.333333%);stroke-opacity:1;stroke-miterlimit:10;\" d=\"M 206.15625 129.9375 L 206.15625 160.167969 L 212.617188 188.152344 L 224.578125 212.675781 L 240.890625 232.820312 L 260.292969 247.980469 L 281.492188 257.867188 L 303.230469 262.488281 L 324.339844 262.121094 L 343.800781 257.269531 L 360.777344 248.621094 L 374.644531 236.988281 L 384.992188 223.253906 L 391.636719 208.332031 L 394.597656 193.097656 L 394.082031 178.363281 L 390.457031 164.835938 L 384.210938 153.089844 L 375.917969 143.550781 L 366.203125 136.492188 L 355.703125 132.035156 L 345.03125 130.152344 L 334.75 130.691406 L 325.347656 133.386719 L 317.222656 137.890625 L 310.664062 143.796875 L 305.855469 150.667969 L 302.871094 158.054688 L 301.6875 165.53125 L 302.1875 172.703125 L 304.183594 179.234375 L 307.429688 184.855469 L 311.632812 189.363281 L 316.488281 192.636719 L 321.683594 194.628906 L 326.917969 195.363281 L 331.917969 194.925781 L 336.453125 193.453125 L 340.335938 191.121094 L 343.433594 188.128906 L 345.660156 184.699219 L 346.988281 181.046875 L 347.4375 177.382812 L 347.070312 173.894531 L 345.984375 170.746094 L 344.308594 168.0625 L 342.183594 165.9375 L 339.761719 164.425781 L 337.195312 163.542969 L 334.632812 163.273438 L 332.203125 163.570312 L 330.015625 164.367188 L 328.164062 165.570312 L 326.707031 167.082031 L 325.679688 168.792969 L 325.09375 170.59375 L 324.9375 172.386719 L 325.175781 174.078125 L 325.757812 175.59375 L 326.621094 176.875 L 327.691406 177.875 L 328.898438 178.570312 L 330.164062 178.957031 L 331.417969 179.042969 L 332.597656 178.855469 L 333.648438 178.429688 L 334.53125 177.8125 L 335.214844 177.050781 L 335.6875 176.199219 L 335.941406 175.3125 L 335.988281 174.4375 L 335.84375 173.617188 L 335.535156 172.886719 L 335.09375 172.277344 L 334.554688 171.808594 L 333.953125 171.488281 L 333.328125 171.320312 L 332.714844 171.300781 L 332.144531 171.410156 L 331.640625 171.636719 L 331.222656 171.953125 L 330.902344 172.335938 L 330.6875 172.757812 L 330.578125 173.195312 L 330.570312 173.625 L 330.65625 174.023438 L 330.820312 174.375 L 331.046875 174.664062 L 331.316406 174.882812 L 331.613281 175.027344 L 331.917969 175.097656 \"/>\n",
       "</g>\n",
       "</svg>\n"
      ]
     },
     "metadata": {},
     "output_type": "display_data"
    }
   ],
   "source": [
    "turtle $ do\n",
    " right 90\n",
    " setPenColor purple\n",
    " spiral 100 11\n",
    " setPenColor orange\n",
    " spiral 100 12\n",
    " setPenColor firebrick\n",
    " spiral 100 13"
   ]
  },
  {
   "cell_type": "markdown",
   "metadata": {},
   "source": [
    "This `resetTurtle` function will make the turtle do some action and then return to the same place that it started."
   ]
  },
  {
   "cell_type": "code",
   "execution_count": 243,
   "metadata": {},
   "outputs": [],
   "source": [
    "resetTurtle action = do\n",
    "     p <- pos\n",
    "     h <- heading\n",
    "     action\n",
    "     setPos p\n",
    "     setHeading h"
   ]
  },
  {
   "cell_type": "code",
   "execution_count": 243,
   "metadata": {},
   "outputs": [],
   "source": [
    "     \n",
    "fern n \n",
    " | n <= 3 = pure ()\n",
    " | otherwise = do\n",
    "     setPenColor green\n",
    "     resetTurtle $ do\n",
    "         forward (n*2)\n",
    "         -- resetTurtle $ do\n",
    "         --    left 70\n",
    "         --    spiral (n/2) 20\n",
    "         --resetTurtle $ do\n",
    "         --    right 70 \n",
    "         --    spiral (n/2) (-20)\n",
    "         resetTurtle $ do\n",
    "             left 70 \n",
    "             fern (n-1)\n",
    "         resetTurtle $ do\n",
    "             right 70 \n",
    "             fern (n-1)\n",
    "         fern (n-1)"
   ]
  },
  {
   "cell_type": "code",
   "execution_count": 247,
   "metadata": {},
   "outputs": [
    {
     "data": {
      "image/png": "[encoded data removed]",
      "image/svg+xml": [
       "<?xml version=\"1.0\" encoding=\"UTF-8\"?>\n",
       "<svg xmlns=\"http://www.w3.org/2000/svg\" xmlns:xlink=\"http://www.w3.org/1999/xlink\" width=\"390.365664pt\" height=\"312.43343pt\" viewBox=\"0 0 390.365664 312.43343\" version=\"1.1\">\n",
       "<g id=\"surface710\">\n",
       "<path style=\"fill:none;stroke-width:4;stroke-linecap:butt;stroke-linejoin:miter;stroke:rgb(0%,50.196078%,0%);stroke-opacity:1;stroke-miterlimit:10;\" d=\"M 195.183594 294.691406 L 195.183594 206.574219 \"/>\n",
       "<path style=\"fill:none;stroke-width:4;stroke-linecap:butt;stroke-linejoin:miter;stroke:rgb(0%,50.196078%,0%);stroke-opacity:1;stroke-miterlimit:10;\" d=\"M 195.183594 206.570312 L 124.207031 180.738281 \"/>\n",
       "<path style=\"fill:none;stroke-width:4;stroke-linecap:butt;stroke-linejoin:miter;stroke:rgb(0%,50.196078%,0%);stroke-opacity:1;stroke-miterlimit:10;\" d=\"M 124.207031 180.738281 L 83.75 228.953125 \"/>\n",
       "<path style=\"fill:none;stroke-width:4;stroke-linecap:butt;stroke-linejoin:miter;stroke:rgb(0%,50.196078%,0%);stroke-opacity:1;stroke-miterlimit:10;\" d=\"M 83.75 228.953125 L 108.925781 272.5625 \"/>\n",
       "<path style=\"fill:none;stroke-width:4;stroke-linecap:butt;stroke-linejoin:miter;stroke:rgb(0%,50.196078%,0%);stroke-opacity:1;stroke-miterlimit:10;\" d=\"M 83.75 228.953125 L 36.433594 211.730469 \"/>\n",
       "<path style=\"fill:none;stroke-width:4;stroke-linecap:butt;stroke-linejoin:miter;stroke:rgb(0%,50.196078%,0%);stroke-opacity:1;stroke-miterlimit:10;\" d=\"M 83.75 228.953125 L 51.382812 267.527344 \"/>\n",
       "<path style=\"fill:none;stroke-width:4;stroke-linecap:butt;stroke-linejoin:miter;stroke:rgb(0%,50.196078%,0%);stroke-opacity:1;stroke-miterlimit:10;\" d=\"M 124.207031 180.738281 L 124.207031 117.796875 \"/>\n",
       "<path style=\"fill:none;stroke-width:4;stroke-linecap:butt;stroke-linejoin:miter;stroke:rgb(0%,50.196078%,0%);stroke-opacity:1;stroke-miterlimit:10;\" d=\"M 124.207031 117.796875 L 76.890625 100.574219 \"/>\n",
       "<path style=\"fill:none;stroke-width:4;stroke-linecap:butt;stroke-linejoin:miter;stroke:rgb(0%,50.196078%,0%);stroke-opacity:1;stroke-miterlimit:10;\" d=\"M 124.207031 117.796875 L 171.523438 100.574219 \"/>\n",
       "<path style=\"fill:none;stroke-width:4;stroke-linecap:butt;stroke-linejoin:miter;stroke:rgb(0%,50.196078%,0%);stroke-opacity:1;stroke-miterlimit:10;\" d=\"M 124.207031 117.796875 L 124.207031 67.441406 \"/>\n",
       "<path style=\"fill:none;stroke-width:4;stroke-linecap:butt;stroke-linejoin:miter;stroke:rgb(0%,50.196078%,0%);stroke-opacity:1;stroke-miterlimit:10;\" d=\"M 124.207031 180.738281 L 65.0625 159.210938 \"/>\n",
       "<path style=\"fill:none;stroke-width:4;stroke-linecap:butt;stroke-linejoin:miter;stroke:rgb(0%,50.196078%,0%);stroke-opacity:1;stroke-miterlimit:10;\" d=\"M 65.0625 159.210938 L 32.695312 197.785156 \"/>\n",
       "<path style=\"fill:none;stroke-width:4;stroke-linecap:butt;stroke-linejoin:miter;stroke:rgb(0%,50.196078%,0%);stroke-opacity:1;stroke-miterlimit:10;\" d=\"M 65.0625 159.210938 L 65.0625 108.855469 \"/>\n",
       "<path style=\"fill:none;stroke-width:4;stroke-linecap:butt;stroke-linejoin:miter;stroke:rgb(0%,50.196078%,0%);stroke-opacity:1;stroke-miterlimit:10;\" d=\"M 65.0625 159.210938 L 17.746094 141.988281 \"/>\n",
       "<path style=\"fill:none;stroke-width:4;stroke-linecap:butt;stroke-linejoin:miter;stroke:rgb(0%,50.196078%,0%);stroke-opacity:1;stroke-miterlimit:10;\" d=\"M 195.183594 206.570312 L 266.160156 180.738281 \"/>\n",
       "<path style=\"fill:none;stroke-width:4;stroke-linecap:butt;stroke-linejoin:miter;stroke:rgb(0%,50.196078%,0%);stroke-opacity:1;stroke-miterlimit:10;\" d=\"M 266.160156 180.738281 L 266.160156 117.796875 \"/>\n",
       "<path style=\"fill:none;stroke-width:4;stroke-linecap:butt;stroke-linejoin:miter;stroke:rgb(0%,50.196078%,0%);stroke-opacity:1;stroke-miterlimit:10;\" d=\"M 266.160156 117.796875 L 218.84375 100.574219 \"/>\n",
       "<path style=\"fill:none;stroke-width:4;stroke-linecap:butt;stroke-linejoin:miter;stroke:rgb(0%,50.196078%,0%);stroke-opacity:1;stroke-miterlimit:10;\" d=\"M 266.160156 117.796875 L 313.476562 100.574219 \"/>\n",
       "<path style=\"fill:none;stroke-width:4;stroke-linecap:butt;stroke-linejoin:miter;stroke:rgb(0%,50.196078%,0%);stroke-opacity:1;stroke-miterlimit:10;\" d=\"M 266.160156 117.796875 L 266.160156 67.441406 \"/>\n",
       "<path style=\"fill:none;stroke-width:4;stroke-linecap:butt;stroke-linejoin:miter;stroke:rgb(0%,50.196078%,0%);stroke-opacity:1;stroke-miterlimit:10;\" d=\"M 266.160156 180.738281 L 306.617188 228.953125 \"/>\n",
       "<path style=\"fill:none;stroke-width:4;stroke-linecap:butt;stroke-linejoin:miter;stroke:rgb(0%,50.196078%,0%);stroke-opacity:1;stroke-miterlimit:10;\" d=\"M 306.617188 228.953125 L 353.933594 211.730469 \"/>\n",
       "<path style=\"fill:none;stroke-width:4;stroke-linecap:butt;stroke-linejoin:miter;stroke:rgb(0%,50.196078%,0%);stroke-opacity:1;stroke-miterlimit:10;\" d=\"M 306.617188 228.953125 L 281.441406 272.5625 \"/>\n",
       "<path style=\"fill:none;stroke-width:4;stroke-linecap:butt;stroke-linejoin:miter;stroke:rgb(0%,50.196078%,0%);stroke-opacity:1;stroke-miterlimit:10;\" d=\"M 306.617188 228.953125 L 338.984375 267.527344 \"/>\n",
       "<path style=\"fill:none;stroke-width:4;stroke-linecap:butt;stroke-linejoin:miter;stroke:rgb(0%,50.196078%,0%);stroke-opacity:1;stroke-miterlimit:10;\" d=\"M 266.160156 180.738281 L 325.304688 159.210938 \"/>\n",
       "<path style=\"fill:none;stroke-width:4;stroke-linecap:butt;stroke-linejoin:miter;stroke:rgb(0%,50.196078%,0%);stroke-opacity:1;stroke-miterlimit:10;\" d=\"M 325.304688 159.210938 L 325.304688 108.855469 \"/>\n",
       "<path style=\"fill:none;stroke-width:4;stroke-linecap:butt;stroke-linejoin:miter;stroke:rgb(0%,50.196078%,0%);stroke-opacity:1;stroke-miterlimit:10;\" d=\"M 325.304688 159.210938 L 357.671875 197.785156 \"/>\n",
       "<path style=\"fill:none;stroke-width:4;stroke-linecap:butt;stroke-linejoin:miter;stroke:rgb(0%,50.196078%,0%);stroke-opacity:1;stroke-miterlimit:10;\" d=\"M 325.304688 159.210938 L 372.621094 141.988281 \"/>\n",
       "<path style=\"fill:none;stroke-width:4;stroke-linecap:butt;stroke-linejoin:miter;stroke:rgb(0%,50.196078%,0%);stroke-opacity:1;stroke-miterlimit:10;\" d=\"M 195.183594 206.570312 L 195.183594 131.039062 \"/>\n",
       "<path style=\"fill:none;stroke-width:4;stroke-linecap:butt;stroke-linejoin:miter;stroke:rgb(0%,50.196078%,0%);stroke-opacity:1;stroke-miterlimit:10;\" d=\"M 195.183594 131.039062 L 136.039062 109.511719 \"/>\n",
       "<path style=\"fill:none;stroke-width:4;stroke-linecap:butt;stroke-linejoin:miter;stroke:rgb(0%,50.196078%,0%);stroke-opacity:1;stroke-miterlimit:10;\" d=\"M 136.035156 109.511719 L 103.667969 148.085938 \"/>\n",
       "<path style=\"fill:none;stroke-width:4;stroke-linecap:butt;stroke-linejoin:miter;stroke:rgb(0%,50.196078%,0%);stroke-opacity:1;stroke-miterlimit:10;\" d=\"M 136.035156 109.511719 L 136.035156 59.15625 \"/>\n",
       "<path style=\"fill:none;stroke-width:4;stroke-linecap:butt;stroke-linejoin:miter;stroke:rgb(0%,50.196078%,0%);stroke-opacity:1;stroke-miterlimit:10;\" d=\"M 136.035156 109.511719 L 88.71875 92.289062 \"/>\n",
       "<path style=\"fill:none;stroke-width:4;stroke-linecap:butt;stroke-linejoin:miter;stroke:rgb(0%,50.196078%,0%);stroke-opacity:1;stroke-miterlimit:10;\" d=\"M 195.183594 131.039062 L 254.328125 109.511719 \"/>\n",
       "<path style=\"fill:none;stroke-width:4;stroke-linecap:butt;stroke-linejoin:miter;stroke:rgb(0%,50.196078%,0%);stroke-opacity:1;stroke-miterlimit:10;\" d=\"M 254.328125 109.511719 L 254.328125 59.15625 \"/>\n",
       "<path style=\"fill:none;stroke-width:4;stroke-linecap:butt;stroke-linejoin:miter;stroke:rgb(0%,50.196078%,0%);stroke-opacity:1;stroke-miterlimit:10;\" d=\"M 254.328125 109.511719 L 286.695312 148.085938 \"/>\n",
       "<path style=\"fill:none;stroke-width:4;stroke-linecap:butt;stroke-linejoin:miter;stroke:rgb(0%,50.196078%,0%);stroke-opacity:1;stroke-miterlimit:10;\" d=\"M 254.328125 109.511719 L 301.644531 92.289062 \"/>\n",
       "<path style=\"fill:none;stroke-width:4;stroke-linecap:butt;stroke-linejoin:miter;stroke:rgb(0%,50.196078%,0%);stroke-opacity:1;stroke-miterlimit:10;\" d=\"M 195.183594 131.039062 L 195.183594 68.097656 \"/>\n",
       "<path style=\"fill:none;stroke-width:4;stroke-linecap:butt;stroke-linejoin:miter;stroke:rgb(0%,50.196078%,0%);stroke-opacity:1;stroke-miterlimit:10;\" d=\"M 195.183594 68.097656 L 147.867188 50.875 \"/>\n",
       "<path style=\"fill:none;stroke-width:4;stroke-linecap:butt;stroke-linejoin:miter;stroke:rgb(0%,50.196078%,0%);stroke-opacity:1;stroke-miterlimit:10;\" d=\"M 195.183594 68.097656 L 242.5 50.875 \"/>\n",
       "<path style=\"fill:none;stroke-width:4;stroke-linecap:butt;stroke-linejoin:miter;stroke:rgb(0%,50.196078%,0%);stroke-opacity:1;stroke-miterlimit:10;\" d=\"M 195.183594 68.097656 L 195.183594 17.742188 \"/>\n",
       "</g>\n",
       "</svg>\n"
      ]
     },
     "metadata": {},
     "output_type": "display_data"
    }
   ],
   "source": [
    "turtle $ fern 7"
   ]
  },
  {
   "cell_type": "code",
   "execution_count": 257,
   "metadata": {},
   "outputs": [],
   "source": [
    "sierpinski 1 = triangle 1\n",
    "sierpinski n = s \n",
    "               ===\n",
    "               (s ||| s) # centerX\n",
    "    where s = sierpinski (n-1)"
   ]
  },
  {
   "cell_type": "code",
   "execution_count": 262,
   "metadata": {},
   "outputs": [
    {
     "data": {
      "image/png": "[encoded data removed]",
      "image/svg+xml": [
       "<?xml version=\"1.0\" encoding=\"UTF-8\"?>\n",
       "<svg xmlns=\"http://www.w3.org/2000/svg\" xmlns:xlink=\"http://www.w3.org/1999/xlink\" width=\"377.964473pt\" height=\"327.326835pt\" viewBox=\"0 0 377.964473 327.326835\" version=\"1.1\">\n",
       "<g id=\"surface776\">\n",
       "<path style=\" stroke:none;fill-rule:nonzero;fill:rgb(100%,64.705882%,0%);fill-opacity:1;\" d=\"M 377.964844 327.328125 L 377.964844 0 L 0 0 L 0 327.328125 Z M 377.964844 327.328125 \"/>\n",
       "<path style=\"fill-rule:nonzero;fill:rgb(100%,100%,100%);fill-opacity:1;stroke-width:1.406942;stroke-linecap:butt;stroke-linejoin:miter;stroke:rgb(0%,0%,0%);stroke-opacity:1;stroke-miterlimit:10;\" d=\"M 377.964844 327.328125 L 354.34375 286.414062 L 330.722656 327.328125 Z M 377.964844 327.328125 \"/>\n",
       "<path style=\"fill-rule:nonzero;fill:rgb(100%,100%,100%);fill-opacity:1;stroke-width:1.406942;stroke-linecap:butt;stroke-linejoin:miter;stroke:rgb(0%,0%,0%);stroke-opacity:1;stroke-miterlimit:10;\" d=\"M 330.71875 327.328125 L 307.097656 286.414062 L 283.476562 327.328125 Z M 330.71875 327.328125 \"/>\n",
       "<path style=\"fill-rule:nonzero;fill:rgb(100%,100%,100%);fill-opacity:1;stroke-width:1.406942;stroke-linecap:butt;stroke-linejoin:miter;stroke:rgb(0%,0%,0%);stroke-opacity:1;stroke-miterlimit:10;\" d=\"M 354.339844 286.410156 L 330.71875 245.496094 L 307.097656 286.410156 Z M 354.339844 286.410156 \"/>\n",
       "<path style=\"fill-rule:nonzero;fill:rgb(100%,100%,100%);fill-opacity:1;stroke-width:1.406942;stroke-linecap:butt;stroke-linejoin:miter;stroke:rgb(0%,0%,0%);stroke-opacity:1;stroke-miterlimit:10;\" d=\"M 283.472656 327.328125 L 259.851562 286.414062 L 236.230469 327.328125 Z M 283.472656 327.328125 \"/>\n",
       "<path style=\"fill-rule:nonzero;fill:rgb(100%,100%,100%);fill-opacity:1;stroke-width:1.406942;stroke-linecap:butt;stroke-linejoin:miter;stroke:rgb(0%,0%,0%);stroke-opacity:1;stroke-miterlimit:10;\" d=\"M 236.226562 327.328125 L 212.605469 286.414062 L 188.984375 327.328125 Z M 236.226562 327.328125 \"/>\n",
       "<path style=\"fill-rule:nonzero;fill:rgb(100%,100%,100%);fill-opacity:1;stroke-width:1.406942;stroke-linecap:butt;stroke-linejoin:miter;stroke:rgb(0%,0%,0%);stroke-opacity:1;stroke-miterlimit:10;\" d=\"M 259.851562 286.410156 L 236.230469 245.496094 L 212.609375 286.410156 Z M 259.851562 286.410156 \"/>\n",
       "<path style=\"fill-rule:nonzero;fill:rgb(100%,100%,100%);fill-opacity:1;stroke-width:1.406942;stroke-linecap:butt;stroke-linejoin:miter;stroke:rgb(0%,0%,0%);stroke-opacity:1;stroke-miterlimit:10;\" d=\"M 330.71875 245.496094 L 307.097656 204.582031 L 283.476562 245.496094 Z M 330.71875 245.496094 \"/>\n",
       "<path style=\"fill-rule:nonzero;fill:rgb(100%,100%,100%);fill-opacity:1;stroke-width:1.406942;stroke-linecap:butt;stroke-linejoin:miter;stroke:rgb(0%,0%,0%);stroke-opacity:1;stroke-miterlimit:10;\" d=\"M 283.472656 245.496094 L 259.851562 204.582031 L 236.230469 245.496094 Z M 283.472656 245.496094 \"/>\n",
       "<path style=\"fill-rule:nonzero;fill:rgb(100%,100%,100%);fill-opacity:1;stroke-width:1.406942;stroke-linecap:butt;stroke-linejoin:miter;stroke:rgb(0%,0%,0%);stroke-opacity:1;stroke-miterlimit:10;\" d=\"M 307.097656 204.578125 L 283.476562 163.664062 L 259.855469 204.578125 Z M 307.097656 204.578125 \"/>\n",
       "<path style=\"fill-rule:nonzero;fill:rgb(100%,100%,100%);fill-opacity:1;stroke-width:1.406942;stroke-linecap:butt;stroke-linejoin:miter;stroke:rgb(0%,0%,0%);stroke-opacity:1;stroke-miterlimit:10;\" d=\"M 188.980469 327.328125 L 165.359375 286.414062 L 141.738281 327.328125 Z M 188.980469 327.328125 \"/>\n",
       "<path style=\"fill-rule:nonzero;fill:rgb(100%,100%,100%);fill-opacity:1;stroke-width:1.406942;stroke-linecap:butt;stroke-linejoin:miter;stroke:rgb(0%,0%,0%);stroke-opacity:1;stroke-miterlimit:10;\" d=\"M 141.738281 327.328125 L 118.117188 286.414062 L 94.496094 327.328125 Z M 141.738281 327.328125 \"/>\n",
       "<path style=\"fill-rule:nonzero;fill:rgb(100%,100%,100%);fill-opacity:1;stroke-width:1.406942;stroke-linecap:butt;stroke-linejoin:miter;stroke:rgb(0%,0%,0%);stroke-opacity:1;stroke-miterlimit:10;\" d=\"M 165.359375 286.410156 L 141.738281 245.496094 L 118.117188 286.410156 Z M 165.359375 286.410156 \"/>\n",
       "<path style=\"fill-rule:nonzero;fill:rgb(100%,100%,100%);fill-opacity:1;stroke-width:1.406942;stroke-linecap:butt;stroke-linejoin:miter;stroke:rgb(0%,0%,0%);stroke-opacity:1;stroke-miterlimit:10;\" d=\"M 94.492188 327.328125 L 70.871094 286.414062 L 47.25 327.328125 Z M 94.492188 327.328125 \"/>\n",
       "<path style=\"fill-rule:nonzero;fill:rgb(100%,100%,100%);fill-opacity:1;stroke-width:1.406942;stroke-linecap:butt;stroke-linejoin:miter;stroke:rgb(0%,0%,0%);stroke-opacity:1;stroke-miterlimit:10;\" d=\"M 47.246094 327.328125 L 23.625 286.414062 L 0.00390625 327.328125 Z M 47.246094 327.328125 \"/>\n",
       "<path style=\"fill-rule:nonzero;fill:rgb(100%,100%,100%);fill-opacity:1;stroke-width:1.406942;stroke-linecap:butt;stroke-linejoin:miter;stroke:rgb(0%,0%,0%);stroke-opacity:1;stroke-miterlimit:10;\" d=\"M 70.867188 286.410156 L 47.246094 245.496094 L 23.625 286.410156 Z M 70.867188 286.410156 \"/>\n",
       "<path style=\"fill-rule:nonzero;fill:rgb(100%,100%,100%);fill-opacity:1;stroke-width:1.406942;stroke-linecap:butt;stroke-linejoin:miter;stroke:rgb(0%,0%,0%);stroke-opacity:1;stroke-miterlimit:10;\" d=\"M 141.738281 245.496094 L 118.117188 204.582031 L 94.496094 245.496094 Z M 141.738281 245.496094 \"/>\n",
       "<path style=\"fill-rule:nonzero;fill:rgb(100%,100%,100%);fill-opacity:1;stroke-width:1.406942;stroke-linecap:butt;stroke-linejoin:miter;stroke:rgb(0%,0%,0%);stroke-opacity:1;stroke-miterlimit:10;\" d=\"M 94.492188 245.496094 L 70.871094 204.582031 L 47.25 245.496094 Z M 94.492188 245.496094 \"/>\n",
       "<path style=\"fill-rule:nonzero;fill:rgb(100%,100%,100%);fill-opacity:1;stroke-width:1.406942;stroke-linecap:butt;stroke-linejoin:miter;stroke:rgb(0%,0%,0%);stroke-opacity:1;stroke-miterlimit:10;\" d=\"M 118.113281 204.578125 L 94.492188 163.664062 L 70.871094 204.578125 Z M 118.113281 204.578125 \"/>\n",
       "<path style=\"fill-rule:nonzero;fill:rgb(100%,100%,100%);fill-opacity:1;stroke-width:1.406942;stroke-linecap:butt;stroke-linejoin:miter;stroke:rgb(0%,0%,0%);stroke-opacity:1;stroke-miterlimit:10;\" d=\"M 283.472656 163.664062 L 259.851562 122.75 L 236.230469 163.664062 Z M 283.472656 163.664062 \"/>\n",
       "<path style=\"fill-rule:nonzero;fill:rgb(100%,100%,100%);fill-opacity:1;stroke-width:1.406942;stroke-linecap:butt;stroke-linejoin:miter;stroke:rgb(0%,0%,0%);stroke-opacity:1;stroke-miterlimit:10;\" d=\"M 236.226562 163.664062 L 212.605469 122.75 L 188.984375 163.664062 Z M 236.226562 163.664062 \"/>\n",
       "<path style=\"fill-rule:nonzero;fill:rgb(100%,100%,100%);fill-opacity:1;stroke-width:1.406942;stroke-linecap:butt;stroke-linejoin:miter;stroke:rgb(0%,0%,0%);stroke-opacity:1;stroke-miterlimit:10;\" d=\"M 259.851562 122.746094 L 236.230469 81.832031 L 212.609375 122.746094 Z M 259.851562 122.746094 \"/>\n",
       "<path style=\"fill-rule:nonzero;fill:rgb(100%,100%,100%);fill-opacity:1;stroke-width:1.406942;stroke-linecap:butt;stroke-linejoin:miter;stroke:rgb(0%,0%,0%);stroke-opacity:1;stroke-miterlimit:10;\" d=\"M 188.980469 163.664062 L 165.359375 122.75 L 141.738281 163.664062 Z M 188.980469 163.664062 \"/>\n",
       "<path style=\"fill-rule:nonzero;fill:rgb(100%,100%,100%);fill-opacity:1;stroke-width:1.406942;stroke-linecap:butt;stroke-linejoin:miter;stroke:rgb(0%,0%,0%);stroke-opacity:1;stroke-miterlimit:10;\" d=\"M 141.738281 163.664062 L 118.117188 122.75 L 94.496094 163.664062 Z M 141.738281 163.664062 \"/>\n",
       "<path style=\"fill-rule:nonzero;fill:rgb(100%,100%,100%);fill-opacity:1;stroke-width:1.406942;stroke-linecap:butt;stroke-linejoin:miter;stroke:rgb(0%,0%,0%);stroke-opacity:1;stroke-miterlimit:10;\" d=\"M 165.359375 122.746094 L 141.738281 81.832031 L 118.117188 122.746094 Z M 165.359375 122.746094 \"/>\n",
       "<path style=\"fill-rule:nonzero;fill:rgb(100%,100%,100%);fill-opacity:1;stroke-width:1.406942;stroke-linecap:butt;stroke-linejoin:miter;stroke:rgb(0%,0%,0%);stroke-opacity:1;stroke-miterlimit:10;\" d=\"M 236.226562 81.832031 L 212.605469 40.917969 L 188.984375 81.832031 Z M 236.226562 81.832031 \"/>\n",
       "<path style=\"fill-rule:nonzero;fill:rgb(100%,100%,100%);fill-opacity:1;stroke-width:1.406942;stroke-linecap:butt;stroke-linejoin:miter;stroke:rgb(0%,0%,0%);stroke-opacity:1;stroke-miterlimit:10;\" d=\"M 188.980469 81.832031 L 165.359375 40.917969 L 141.738281 81.832031 Z M 188.980469 81.832031 \"/>\n",
       "<path style=\"fill-rule:nonzero;fill:rgb(100%,100%,100%);fill-opacity:1;stroke-width:1.406942;stroke-linecap:butt;stroke-linejoin:miter;stroke:rgb(0%,0%,0%);stroke-opacity:1;stroke-miterlimit:10;\" d=\"M 212.605469 40.914062 L 188.984375 0 L 165.363281 40.914062 Z M 212.605469 40.914062 \"/>\n",
       "</g>\n",
       "</svg>\n"
      ]
     },
     "metadata": {},
     "output_type": "display_data"
    }
   ],
   "source": [
    "diagram $ sierpinski 4 # fc white # bg orange # lc black"
   ]
  },
  {
   "cell_type": "code",
   "execution_count": 17,
   "metadata": {},
   "outputs": [
    {
     "data": {
      "image/png": "[encoded data removed]",
      "image/svg+xml": [
       "<?xml version=\"1.0\" encoding=\"UTF-8\"?>\n",
       "<svg xmlns=\"http://www.w3.org/2000/svg\" xmlns:xlink=\"http://www.w3.org/1999/xlink\" width=\"480.761974pt\" height=\"137.360564pt\" viewBox=\"0 0 480.761974 137.360564\" version=\"1.1\">\n",
       "<g id=\"surface20\">\n",
       "<path style=\"fill:none;stroke-width:1.027912;stroke-linecap:butt;stroke-linejoin:miter;stroke:rgb(0%,0%,0%);stroke-opacity:1;stroke-miterlimit:10;\" d=\"M 480.761719 68.679688 C 480.761719 30.75 450.011719 0 412.082031 0 C 374.152344 0 343.402344 30.75 343.402344 68.679688 C 343.402344 106.609375 374.152344 137.359375 412.082031 137.359375 C 450.011719 137.359375 480.761719 106.609375 480.761719 68.679688 Z M 480.761719 68.679688 \"/>\n",
       "<path style=\"fill:none;stroke-width:1.027912;stroke-linecap:butt;stroke-linejoin:miter;stroke:rgb(0%,0%,0%);stroke-opacity:1;stroke-miterlimit:10;\" d=\"M 343.402344 68.679688 C 343.402344 37.070312 317.777344 11.445312 286.167969 11.445312 C 254.558594 11.445312 228.933594 37.070312 228.933594 68.679688 C 228.933594 100.289062 254.558594 125.914062 286.167969 125.914062 C 317.777344 125.914062 343.402344 100.289062 343.402344 68.679688 Z M 343.402344 68.679688 \"/>\n",
       "<path style=\"fill:none;stroke-width:1.027912;stroke-linecap:butt;stroke-linejoin:miter;stroke:rgb(0%,0%,0%);stroke-opacity:1;stroke-miterlimit:10;\" d=\"M 228.933594 68.679688 C 228.933594 43.390625 208.433594 22.894531 183.148438 22.894531 C 157.859375 22.894531 137.363281 43.394531 137.363281 68.679688 C 137.363281 93.96875 157.863281 114.464844 183.148438 114.464844 C 208.4375 114.464844 228.933594 93.964844 228.933594 68.679688 Z M 228.933594 68.679688 \"/>\n",
       "<path style=\"fill:none;stroke-width:1.027912;stroke-linecap:butt;stroke-linejoin:miter;stroke:rgb(0%,0%,0%);stroke-opacity:1;stroke-miterlimit:10;\" d=\"M 137.359375 68.679688 C 137.359375 49.714844 121.984375 34.339844 103.019531 34.339844 C 84.054688 34.339844 68.679688 49.714844 68.679688 68.679688 C 68.679688 87.644531 84.054688 103.019531 103.019531 103.019531 C 121.984375 103.019531 137.359375 87.644531 137.359375 68.679688 Z M 137.359375 68.679688 \"/>\n",
       "<path style=\"fill:none;stroke-width:1.027912;stroke-linecap:butt;stroke-linejoin:miter;stroke:rgb(0%,0%,0%);stroke-opacity:1;stroke-miterlimit:10;\" d=\"M 68.679688 68.679688 C 68.679688 56.035156 58.429688 45.785156 45.785156 45.785156 C 33.140625 45.785156 22.890625 56.035156 22.890625 68.679688 C 22.890625 81.324219 33.140625 91.574219 45.785156 91.574219 C 58.429688 91.574219 68.679688 81.324219 68.679688 68.679688 Z M 68.679688 68.679688 \"/>\n",
       "<path style=\"fill:none;stroke-width:1.027912;stroke-linecap:butt;stroke-linejoin:miter;stroke:rgb(0%,0%,0%);stroke-opacity:1;stroke-miterlimit:10;\" d=\"M 22.894531 68.679688 C 22.894531 62.359375 17.769531 57.234375 11.449219 57.234375 C 5.128906 57.234375 0.00390625 62.359375 0.00390625 68.679688 C 0.00390625 75 5.128906 80.125 11.449219 80.125 C 17.769531 80.125 22.894531 75 22.894531 68.679688 Z M 22.894531 68.679688 \"/>\n",
       "</g>\n",
       "</svg>\n"
      ]
     },
     "metadata": {},
     "output_type": "display_data"
    }
   ],
   "source": [
    "diagram $ hcat (map circle [1..6])"
   ]
  },
  {
   "cell_type": "code",
   "execution_count": 148,
   "metadata": {},
   "outputs": [
    {
     "data": {
      "image/png": "[encoded data removed]",
      "image/svg+xml": [
       "<?xml version=\"1.0\" encoding=\"UTF-8\"?>\n",
       "<svg xmlns=\"http://www.w3.org/2000/svg\" xmlns:xlink=\"http://www.w3.org/1999/xlink\" width=\"416.025147pt\" height=\"277.350098pt\" viewBox=\"0 0 416.025147 277.350098\" version=\"1.1\">\n",
       "<g id=\"surface182\">\n",
       "<path style=\"fill:none;stroke-width:1.358732;stroke-linecap:butt;stroke-linejoin:miter;stroke:rgb(0%,0%,0%);stroke-opacity:1;stroke-miterlimit:10;\" d=\"M 416.023438 138.675781 C 416.023438 62.085938 353.9375 0 277.347656 0 C 200.757812 0 138.671875 62.085938 138.671875 138.675781 C 138.671875 215.265625 200.757812 277.351562 277.347656 277.351562 C 353.9375 277.351562 416.023438 215.265625 416.023438 138.675781 Z M 416.023438 138.675781 \"/>\n",
       "<path style=\"fill:none;stroke-width:1.358732;stroke-linecap:butt;stroke-linejoin:miter;stroke:rgb(0%,0%,0%);stroke-opacity:1;stroke-miterlimit:10;\" d=\"M 138.675781 138.675781 C 138.675781 100.382812 107.632812 69.339844 69.339844 69.339844 C 31.046875 69.339844 0.00390625 100.382812 0.00390625 138.675781 C 0.00390625 176.96875 31.046875 208.011719 69.339844 208.011719 C 107.632812 208.011719 138.675781 176.96875 138.675781 138.675781 Z M 138.675781 138.675781 \"/>\n",
       "</g>\n",
       "</svg>\n"
      ]
     },
     "metadata": {},
     "output_type": "display_data"
    }
   ],
   "source": [
    "diagram $ circle 1 ||| circle 2"
   ]
  },
  {
   "cell_type": "code",
   "execution_count": 117,
   "metadata": {},
   "outputs": [
    {
     "data": {
      "image/png": "[encoded data removed]",
      "image/svg+xml": [
       "<?xml version=\"1.0\" encoding=\"UTF-8\"?>\n",
       "<svg xmlns=\"http://www.w3.org/2000/svg\" xmlns:xlink=\"http://www.w3.org/1999/xlink\" width=\"353.553391pt\" height=\"353.553391pt\" viewBox=\"0 0 353.553391 353.553391\" version=\"1.1\">\n",
       "<g id=\"surface86\">\n",
       "<path style=\"fill:none;stroke-width:1.414214;stroke-linecap:butt;stroke-linejoin:miter;stroke:rgb(0%,0%,0%);stroke-opacity:1;stroke-miterlimit:10;\" d=\"M 0 353.554688 L 353.554688 353.554688 L 353.554688 0 \"/>\n",
       "</g>\n",
       "</svg>\n"
      ]
     },
     "metadata": {},
     "output_type": "display_data"
    }
   ],
   "source": [
    "diagram $ fromOffsets [unitX, unitY]"
   ]
  },
  {
   "cell_type": "code",
   "execution_count": 125,
   "metadata": {},
   "outputs": [],
   "source": [
    "30 @@ deg"
   ]
  },
  {
   "cell_type": "code",
   "execution_count": 130,
   "metadata": {},
   "outputs": [
    {
     "data": {
      "text/html": [
       "<style>/* Styles used for the Hoogle display in the pager */\n",
       ".hoogle-doc {\n",
       "display: block;\n",
       "padding-bottom: 1.3em;\n",
       "padding-left: 0.4em;\n",
       "}\n",
       ".hoogle-code {\n",
       "display: block;\n",
       "font-family: monospace;\n",
       "white-space: pre;\n",
       "}\n",
       ".hoogle-text {\n",
       "display: block;\n",
       "}\n",
       ".hoogle-name {\n",
       "color: green;\n",
       "font-weight: bold;\n",
       "}\n",
       ".hoogle-head {\n",
       "font-weight: bold;\n",
       "}\n",
       ".hoogle-sub {\n",
       "display: block;\n",
       "margin-left: 0.4em;\n",
       "}\n",
       ".hoogle-package {\n",
       "font-weight: bold;\n",
       "font-style: italic;\n",
       "}\n",
       ".hoogle-module {\n",
       "font-weight: bold;\n",
       "}\n",
       ".hoogle-class {\n",
       "font-weight: bold;\n",
       "}\n",
       ".get-type {\n",
       "color: green;\n",
       "font-weight: bold;\n",
       "font-family: monospace;\n",
       "display: block;\n",
       "white-space: pre-wrap;\n",
       "}\n",
       ".show-type {\n",
       "color: green;\n",
       "font-weight: bold;\n",
       "font-family: monospace;\n",
       "margin-left: 1em;\n",
       "}\n",
       ".mono {\n",
       "font-family: monospace;\n",
       "display: block;\n",
       "}\n",
       ".err-msg {\n",
       "color: red;\n",
       "font-style: italic;\n",
       "font-family: monospace;\n",
       "white-space: pre;\n",
       "display: block;\n",
       "}\n",
       "#unshowable {\n",
       "color: red;\n",
       "font-weight: bold;\n",
       "}\n",
       ".err-msg.in.collapse {\n",
       "padding-top: 0.7em;\n",
       "}\n",
       ".highlight-code {\n",
       "white-space: pre;\n",
       "font-family: monospace;\n",
       "}\n",
       ".suggestion-warning { \n",
       "font-weight: bold;\n",
       "color: rgb(200, 130, 0);\n",
       "}\n",
       ".suggestion-error { \n",
       "font-weight: bold;\n",
       "color: red;\n",
       "}\n",
       ".suggestion-name {\n",
       "font-weight: bold;\n",
       "}\n",
       "</style><span class='get-type'>degree :: forall n. RealFloat n => Rational -> Angle n</span>"
      ],
      "text/plain": [
       "degree :: forall n. RealFloat n => Rational -> Angle n"
      ]
     },
     "metadata": {},
     "output_type": "display_data"
    }
   ],
   "source": [
    "degree x = fromRat x @@ deg\n",
    ":t degree"
   ]
  },
  {
   "cell_type": "code",
   "execution_count": 111,
   "metadata": {},
   "outputs": [
    {
     "data": {
      "text/html": [
       "<style>/* Styles used for the Hoogle display in the pager */\n",
       ".hoogle-doc {\n",
       "display: block;\n",
       "padding-bottom: 1.3em;\n",
       "padding-left: 0.4em;\n",
       "}\n",
       ".hoogle-code {\n",
       "display: block;\n",
       "font-family: monospace;\n",
       "white-space: pre;\n",
       "}\n",
       ".hoogle-text {\n",
       "display: block;\n",
       "}\n",
       ".hoogle-name {\n",
       "color: green;\n",
       "font-weight: bold;\n",
       "}\n",
       ".hoogle-head {\n",
       "font-weight: bold;\n",
       "}\n",
       ".hoogle-sub {\n",
       "display: block;\n",
       "margin-left: 0.4em;\n",
       "}\n",
       ".hoogle-package {\n",
       "font-weight: bold;\n",
       "font-style: italic;\n",
       "}\n",
       ".hoogle-module {\n",
       "font-weight: bold;\n",
       "}\n",
       ".hoogle-class {\n",
       "font-weight: bold;\n",
       "}\n",
       ".get-type {\n",
       "color: green;\n",
       "font-weight: bold;\n",
       "font-family: monospace;\n",
       "display: block;\n",
       "white-space: pre-wrap;\n",
       "}\n",
       ".show-type {\n",
       "color: green;\n",
       "font-weight: bold;\n",
       "font-family: monospace;\n",
       "margin-left: 1em;\n",
       "}\n",
       ".mono {\n",
       "font-family: monospace;\n",
       "display: block;\n",
       "}\n",
       ".err-msg {\n",
       "color: red;\n",
       "font-style: italic;\n",
       "font-family: monospace;\n",
       "white-space: pre;\n",
       "display: block;\n",
       "}\n",
       "#unshowable {\n",
       "color: red;\n",
       "font-weight: bold;\n",
       "}\n",
       ".err-msg.in.collapse {\n",
       "padding-top: 0.7em;\n",
       "}\n",
       ".highlight-code {\n",
       "white-space: pre;\n",
       "font-family: monospace;\n",
       "}\n",
       ".suggestion-warning { \n",
       "font-weight: bold;\n",
       "color: rgb(200, 130, 0);\n",
       "}\n",
       ".suggestion-error { \n",
       "font-weight: bold;\n",
       "color: red;\n",
       "}\n",
       ".suggestion-name {\n",
       "font-weight: bold;\n",
       "}\n",
       "</style><div class=\"suggestion-name\" style=\"clear:both;\">Redundant bracket</div><div class=\"suggestion-row\" style=\"float: left;\"><div class=\"suggestion-warning\">Found:</div><div class=\"highlight-code\" id=\"haskell\">((1 :: Double), (1 :: Double))</div></div><div class=\"suggestion-row\" style=\"float: left;\"><div class=\"suggestion-warning\">Why Not:</div><div class=\"highlight-code\" id=\"haskell\">(1 :: Double, (1 :: Double))</div></div><div class=\"suggestion-name\" style=\"clear:both;\">Redundant bracket</div><div class=\"suggestion-row\" style=\"float: left;\"><div class=\"suggestion-warning\">Found:</div><div class=\"highlight-code\" id=\"haskell\">((1 :: Double), (1 :: Double))</div></div><div class=\"suggestion-row\" style=\"float: left;\"><div class=\"suggestion-warning\">Why Not:</div><div class=\"highlight-code\" id=\"haskell\">((1 :: Double), 1 :: Double)</div></div>"
      ],
      "text/plain": [
       "Line 1: Redundant bracket\n",
       "Found:\n",
       "((1 :: Double), (1 :: Double))\n",
       "Why not:\n",
       "(1 :: Double, (1 :: Double))Line 1: Redundant bracket\n",
       "Found:\n",
       "((1 :: Double), (1 :: Double))\n",
       "Why not:\n",
       "((1 :: Double), 1 :: Double)"
      ]
     },
     "metadata": {},
     "output_type": "display_data"
    },
    {
     "ename": "",
     "evalue": "",
     "header": "MessageHeader {mhIdentifiers = [\"e76d5690-5ba1-4776-aa8e-a84cf57b4963\"], mhParentHeader = Just (MessageHeader {mhIdentifiers = [\"e76d5690-5ba1-4776-aa8e-a84cf57b4963\"], mhParentHeader = Nothing, mhMetadata = Metadata (fromList [(\"recordTiming\",Bool False),(\"deletedCells\",Array []),(\"cellId\",String \"2d87498c-5147-4e42-b120-4eaae9df31ea\")]), mhMessageId = UUID {uuidToString = \"1f682946-d41e-4808-bec4-86a98278a949\"}, mhSessionId = UUID {uuidToString = \"e76d5690-5ba1-4776-aa8e-a84cf57b4963\"}, mhUsername = \"\", mhMsgType = ExecuteRequestMessage, mhBuffers = []}), mhMetadata = Metadata (fromList []), mhMessageId = UUID {uuidToString = \"20cf52ab-fa26-4c97-99e9-51b5d7d3eaef\"}, mhSessionId = UUID {uuidToString = \"e76d5690-5ba1-4776-aa8e-a84cf57b4963\"}, mhUsername = \"\", mhMsgType = ExecuteErrorMessage, mhBuffers = []}",
     "output_type": "error",
     "traceback": [
      "<interactive>:1:12: error:\n    • Couldn't match type ‘V2 Double’ with ‘QDiagram Diagrams.Backend.Cairo.Internal.Cairo (V Diagrams.Backend.Cairo.Internal.Cairo) (N Diagrams.Backend.Cairo.Internal.Cairo) Any’\n      Expected type: Diagram Diagrams.Backend.Cairo.Internal.Cairo\n        Actual type: V2 Double\n    • In the second argument of ‘($)’, namely ‘r2 ((1 :: Double), (1 :: Double))’\n      In the expression: diagram $ r2 ((1 :: Double), (1 :: Double))\n      In an equation for ‘it’: it = diagram $ r2 ((1 :: Double), (1 :: Double))"
     ]
    }
   ],
   "source": [
    "diagram $ fromOffsets $ r2 ((1::Double), (1::Double))"
   ]
  },
  {
   "cell_type": "code",
   "execution_count": 97,
   "metadata": {},
   "outputs": [
    {
     "data": {
      "text/html": [
       "<style>/* Styles used for the Hoogle display in the pager */\n",
       ".hoogle-doc {\n",
       "display: block;\n",
       "padding-bottom: 1.3em;\n",
       "padding-left: 0.4em;\n",
       "}\n",
       ".hoogle-code {\n",
       "display: block;\n",
       "font-family: monospace;\n",
       "white-space: pre;\n",
       "}\n",
       ".hoogle-text {\n",
       "display: block;\n",
       "}\n",
       ".hoogle-name {\n",
       "color: green;\n",
       "font-weight: bold;\n",
       "}\n",
       ".hoogle-head {\n",
       "font-weight: bold;\n",
       "}\n",
       ".hoogle-sub {\n",
       "display: block;\n",
       "margin-left: 0.4em;\n",
       "}\n",
       ".hoogle-package {\n",
       "font-weight: bold;\n",
       "font-style: italic;\n",
       "}\n",
       ".hoogle-module {\n",
       "font-weight: bold;\n",
       "}\n",
       ".hoogle-class {\n",
       "font-weight: bold;\n",
       "}\n",
       ".get-type {\n",
       "color: green;\n",
       "font-weight: bold;\n",
       "font-family: monospace;\n",
       "display: block;\n",
       "white-space: pre-wrap;\n",
       "}\n",
       ".show-type {\n",
       "color: green;\n",
       "font-weight: bold;\n",
       "font-family: monospace;\n",
       "margin-left: 1em;\n",
       "}\n",
       ".mono {\n",
       "font-family: monospace;\n",
       "display: block;\n",
       "}\n",
       ".err-msg {\n",
       "color: red;\n",
       "font-style: italic;\n",
       "font-family: monospace;\n",
       "white-space: pre;\n",
       "display: block;\n",
       "}\n",
       "#unshowable {\n",
       "color: red;\n",
       "font-weight: bold;\n",
       "}\n",
       ".err-msg.in.collapse {\n",
       "padding-top: 0.7em;\n",
       "}\n",
       ".highlight-code {\n",
       "white-space: pre;\n",
       "font-family: monospace;\n",
       "}\n",
       ".suggestion-warning { \n",
       "font-weight: bold;\n",
       "color: rgb(200, 130, 0);\n",
       "}\n",
       ".suggestion-error { \n",
       "font-weight: bold;\n",
       "color: red;\n",
       "}\n",
       ".suggestion-name {\n",
       "font-weight: bold;\n",
       "}\n",
       "</style><span class='get-type'>6/3 :: forall a. Fractional a => a</span>"
      ],
      "text/plain": [
       "6/3 :: forall a. Fractional a => a"
      ]
     },
     "metadata": {},
     "output_type": "display_data"
    }
   ],
   "source": [
    ":t 6/3 "
   ]
  },
  {
   "cell_type": "code",
   "execution_count": 26,
   "metadata": {},
   "outputs": [
    {
     "data": {
      "text/html": [
       "<style>/* Styles used for the Hoogle display in the pager */\n",
       ".hoogle-doc {\n",
       "display: block;\n",
       "padding-bottom: 1.3em;\n",
       "padding-left: 0.4em;\n",
       "}\n",
       ".hoogle-code {\n",
       "display: block;\n",
       "font-family: monospace;\n",
       "white-space: pre;\n",
       "}\n",
       ".hoogle-text {\n",
       "display: block;\n",
       "}\n",
       ".hoogle-name {\n",
       "color: green;\n",
       "font-weight: bold;\n",
       "}\n",
       ".hoogle-head {\n",
       "font-weight: bold;\n",
       "}\n",
       ".hoogle-sub {\n",
       "display: block;\n",
       "margin-left: 0.4em;\n",
       "}\n",
       ".hoogle-package {\n",
       "font-weight: bold;\n",
       "font-style: italic;\n",
       "}\n",
       ".hoogle-module {\n",
       "font-weight: bold;\n",
       "}\n",
       ".hoogle-class {\n",
       "font-weight: bold;\n",
       "}\n",
       ".get-type {\n",
       "color: green;\n",
       "font-weight: bold;\n",
       "font-family: monospace;\n",
       "display: block;\n",
       "white-space: pre-wrap;\n",
       "}\n",
       ".show-type {\n",
       "color: green;\n",
       "font-weight: bold;\n",
       "font-family: monospace;\n",
       "margin-left: 1em;\n",
       "}\n",
       ".mono {\n",
       "font-family: monospace;\n",
       "display: block;\n",
       "}\n",
       ".err-msg {\n",
       "color: red;\n",
       "font-style: italic;\n",
       "font-family: monospace;\n",
       "white-space: pre;\n",
       "display: block;\n",
       "}\n",
       "#unshowable {\n",
       "color: red;\n",
       "font-weight: bold;\n",
       "}\n",
       ".err-msg.in.collapse {\n",
       "padding-top: 0.7em;\n",
       "}\n",
       ".highlight-code {\n",
       "white-space: pre;\n",
       "font-family: monospace;\n",
       "}\n",
       ".suggestion-warning { \n",
       "font-weight: bold;\n",
       "color: rgb(200, 130, 0);\n",
       "}\n",
       ".suggestion-error { \n",
       "font-weight: bold;\n",
       "color: red;\n",
       "}\n",
       ".suggestion-name {\n",
       "font-weight: bold;\n",
       "}\n",
       "</style><span class='get-type'>iforM :: forall i (t :: * -> *) (m :: * -> *) a b. (TraversableWithIndex i t, Monad m) => t a -> (i -> a -> m b) -> m (t b)</span>"
      ],
      "text/plain": [
       "iforM :: forall i (t :: * -> *) (m :: * -> *) a b. (TraversableWithIndex i t, Monad m) => t a -> (i -> a -> m b) -> m (t b)"
      ]
     },
     "metadata": {},
     "output_type": "display_data"
    }
   ],
   "source": [
    ":t iforM"
   ]
  },
  {
   "cell_type": "code",
   "execution_count": 39,
   "metadata": {},
   "outputs": [
    {
     "data": {
      "text/html": [
       "<style>/* Styles used for the Hoogle display in the pager */\n",
       ".hoogle-doc {\n",
       "display: block;\n",
       "padding-bottom: 1.3em;\n",
       "padding-left: 0.4em;\n",
       "}\n",
       ".hoogle-code {\n",
       "display: block;\n",
       "font-family: monospace;\n",
       "white-space: pre;\n",
       "}\n",
       ".hoogle-text {\n",
       "display: block;\n",
       "}\n",
       ".hoogle-name {\n",
       "color: green;\n",
       "font-weight: bold;\n",
       "}\n",
       ".hoogle-head {\n",
       "font-weight: bold;\n",
       "}\n",
       ".hoogle-sub {\n",
       "display: block;\n",
       "margin-left: 0.4em;\n",
       "}\n",
       ".hoogle-package {\n",
       "font-weight: bold;\n",
       "font-style: italic;\n",
       "}\n",
       ".hoogle-module {\n",
       "font-weight: bold;\n",
       "}\n",
       ".hoogle-class {\n",
       "font-weight: bold;\n",
       "}\n",
       ".get-type {\n",
       "color: green;\n",
       "font-weight: bold;\n",
       "font-family: monospace;\n",
       "display: block;\n",
       "white-space: pre-wrap;\n",
       "}\n",
       ".show-type {\n",
       "color: green;\n",
       "font-weight: bold;\n",
       "font-family: monospace;\n",
       "margin-left: 1em;\n",
       "}\n",
       ".mono {\n",
       "font-family: monospace;\n",
       "display: block;\n",
       "}\n",
       ".err-msg {\n",
       "color: red;\n",
       "font-style: italic;\n",
       "font-family: monospace;\n",
       "white-space: pre;\n",
       "display: block;\n",
       "}\n",
       "#unshowable {\n",
       "color: red;\n",
       "font-weight: bold;\n",
       "}\n",
       ".err-msg.in.collapse {\n",
       "padding-top: 0.7em;\n",
       "}\n",
       ".highlight-code {\n",
       "white-space: pre;\n",
       "font-family: monospace;\n",
       "}\n",
       ".suggestion-warning { \n",
       "font-weight: bold;\n",
       "color: rgb(200, 130, 0);\n",
       "}\n",
       ".suggestion-error { \n",
       "font-weight: bold;\n",
       "color: red;\n",
       "}\n",
       ".suggestion-name {\n",
       "font-weight: bold;\n",
       "}\n",
       "</style><div class=\"suggestion-name\" style=\"clear:both;\">Use ||</div><div class=\"suggestion-row\" style=\"float: left;\"><div class=\"suggestion-warning\">Found:</div><div class=\"highlight-code\" id=\"haskell\">or [True, False, False]</div></div><div class=\"suggestion-row\" style=\"float: left;\"><div class=\"suggestion-warning\">Why Not:</div><div class=\"highlight-code\" id=\"haskell\">True || False || False</div></div>"
      ],
      "text/plain": [
       "Line 1: Use ||\n",
       "Found:\n",
       "or [True, False, False]\n",
       "Why not:\n",
       "True || False || False"
      ]
     },
     "metadata": {},
     "output_type": "display_data"
    },
    {
     "data": {
      "text/plain": [
       "True"
      ]
     },
     "metadata": {},
     "output_type": "display_data"
    }
   ],
   "source": [
    "or [True, False, False]"
   ]
  },
  {
   "cell_type": "code",
   "execution_count": 170,
   "metadata": {},
   "outputs": [
    {
     "data": {
      "image/png": "[encoded data removed]",
      "image/svg+xml": [
       "<?xml version=\"1.0\" encoding=\"UTF-8\"?>\n",
       "<svg xmlns=\"http://www.w3.org/2000/svg\" xmlns:xlink=\"http://www.w3.org/1999/xlink\" width=\"220.061306pt\" height=\"448.968843pt\" viewBox=\"0 0 220.061306 448.968843\" version=\"1.1\">\n",
       "<g id=\"surface290\">\n",
       "<path style=\"fill-rule:nonzero;fill:rgb(100%,100%,0%);fill-opacity:1;stroke-width:10;stroke-linecap:butt;stroke-linejoin:miter;stroke:rgb(100%,64.705882%,0%);stroke-opacity:1;stroke-dasharray:10,10;stroke-miterlimit:10;\" d=\"M 213.78125 382.035156 L 0 208.257812 L 134.011719 448.96875 Z M 213.78125 382.035156 \"/>\n",
       "<path style=\"fill-rule:nonzero;fill:rgb(0%,50.196078%,0%);fill-opacity:1;stroke-width:1.257303;stroke-linecap:butt;stroke-linejoin:miter;stroke:rgb(0%,0%,0%);stroke-opacity:1;stroke-miterlimit:10;\" d=\"M 220.0625 104.128906 C 220.0625 46.621094 173.441406 0 115.933594 0 C 58.425781 0 11.804688 46.621094 11.804688 104.128906 C 11.804688 161.636719 58.425781 208.257812 115.933594 208.257812 C 173.441406 208.257812 220.0625 161.636719 220.0625 104.128906 Z M 220.0625 104.128906 \"/>\n",
       "</g>\n",
       "</svg>\n"
      ]
     },
     "metadata": {},
     "output_type": "display_data"
    }
   ],
   "source": [
    "t = triangle 1 # fc yellow # lc orange # lw 10 \n",
    "          # dashing [10,10] 0\n",
    "          # scaleY 3\n",
    "          # rotateBy (1/9)\n",
    "          \n",
    "c = circle 1 # fc green\n",
    "\n",
    "diagram $ c \n",
    "         ===\n",
    "          t"
   ]
  },
  {
   "cell_type": "code",
   "execution_count": 27,
   "metadata": {},
   "outputs": [
    {
     "data": {
      "text/html": [
       "<style>/* Styles used for the Hoogle display in the pager */\n",
       ".hoogle-doc {\n",
       "display: block;\n",
       "padding-bottom: 1.3em;\n",
       "padding-left: 0.4em;\n",
       "}\n",
       ".hoogle-code {\n",
       "display: block;\n",
       "font-family: monospace;\n",
       "white-space: pre;\n",
       "}\n",
       ".hoogle-text {\n",
       "display: block;\n",
       "}\n",
       ".hoogle-name {\n",
       "color: green;\n",
       "font-weight: bold;\n",
       "}\n",
       ".hoogle-head {\n",
       "font-weight: bold;\n",
       "}\n",
       ".hoogle-sub {\n",
       "display: block;\n",
       "margin-left: 0.4em;\n",
       "}\n",
       ".hoogle-package {\n",
       "font-weight: bold;\n",
       "font-style: italic;\n",
       "}\n",
       ".hoogle-module {\n",
       "font-weight: bold;\n",
       "}\n",
       ".hoogle-class {\n",
       "font-weight: bold;\n",
       "}\n",
       ".get-type {\n",
       "color: green;\n",
       "font-weight: bold;\n",
       "font-family: monospace;\n",
       "display: block;\n",
       "white-space: pre-wrap;\n",
       "}\n",
       ".show-type {\n",
       "color: green;\n",
       "font-weight: bold;\n",
       "font-family: monospace;\n",
       "margin-left: 1em;\n",
       "}\n",
       ".mono {\n",
       "font-family: monospace;\n",
       "display: block;\n",
       "}\n",
       ".err-msg {\n",
       "color: red;\n",
       "font-style: italic;\n",
       "font-family: monospace;\n",
       "white-space: pre;\n",
       "display: block;\n",
       "}\n",
       "#unshowable {\n",
       "color: red;\n",
       "font-weight: bold;\n",
       "}\n",
       ".err-msg.in.collapse {\n",
       "padding-top: 0.7em;\n",
       "}\n",
       ".highlight-code {\n",
       "white-space: pre;\n",
       "font-family: monospace;\n",
       "}\n",
       ".suggestion-warning { \n",
       "font-weight: bold;\n",
       "color: rgb(200, 130, 0);\n",
       "}\n",
       ".suggestion-error { \n",
       "font-weight: bold;\n",
       "color: red;\n",
       "}\n",
       ".suggestion-name {\n",
       "font-weight: bold;\n",
       "}\n",
       "</style><div class=\"suggestion-name\" style=\"clear:both;\">Use map</div><div class=\"suggestion-row\" style=\"float: left;\"><div class=\"suggestion-warning\">Found:</div><div class=\"highlight-code\" id=\"haskell\">zipWith named [1 :: Int .. 6] $ repeat (circle 0.2 # fc green)</div></div><div class=\"suggestion-row\" style=\"float: left;\"><div class=\"suggestion-warning\">Why Not:</div><div class=\"highlight-code\" id=\"haskell\">map (\\ x -> named x (circle 0.2 # fc green)) [1 :: Int .. 6]</div></div>"
      ],
      "text/plain": [
       "Line 1: Use map\n",
       "Found:\n",
       "zipWith named [1 :: Int .. 6] $ repeat (circle 0.2 # fc green)\n",
       "Why not:\n",
       "map (\\ x -> named x (circle 0.2 # fc green)) [1 :: Int .. 6]"
      ]
     },
     "metadata": {},
     "output_type": "display_data"
    },
    {
     "data": {
      "image/png": "[encoded data removed]",
      "image/svg+xml": [
       "<?xml version=\"1.0\" encoding=\"UTF-8\"?>\n",
       "<svg xmlns=\"http://www.w3.org/2000/svg\" xmlns:xlink=\"http://www.w3.org/1999/xlink\" width=\"423.60387pt\" height=\"265.630874pt\" viewBox=\"0 0 423.60387 265.630874\" version=\"1.1\">\n",
       "<defs>\n",
       "<g>\n",
       "<symbol overflow=\"visible\" id=\"glyph-2020-12-0735794.326781455s0-0\">\n",
       "<path style=\"stroke:none;\" d=\"M 1.109375 0 L 1.109375 -22.140625 L 9.921875 -22.140625 L 9.921875 0 Z M 2.203125 -1.109375 L 8.828125 -1.109375 L 8.828125 -21.03125 L 2.203125 -21.03125 Z M 2.203125 -1.109375 \"/>\n",
       "</symbol>\n",
       "<symbol overflow=\"visible\" id=\"glyph-2020-12-0735794.326781455s0-1\">\n",
       "<path style=\"stroke:none;\" d=\"M 17.78125 -7.234375 C 17.78125 -6.148438 17.617188 -5.144531 17.296875 -4.21875 C 16.972656 -3.300781 16.5 -2.503906 15.875 -1.828125 C 15.257812 -1.148438 14.492188 -0.617188 13.578125 -0.234375 C 12.660156 0.140625 11.597656 0.328125 10.390625 0.328125 C 9.066406 0.328125 7.90625 0.078125 6.90625 -0.421875 C 5.914062 -0.929688 5.085938 -1.648438 4.421875 -2.578125 C 3.765625 -3.503906 3.269531 -4.628906 2.9375 -5.953125 C 2.613281 -7.285156 2.453125 -8.769531 2.453125 -10.40625 C 2.453125 -12.320312 2.632812 -14.015625 3 -15.484375 C 3.375 -16.960938 3.910156 -18.195312 4.609375 -19.1875 C 5.316406 -20.1875 6.175781 -20.941406 7.1875 -21.453125 C 8.195312 -21.960938 9.34375 -22.21875 10.625 -22.21875 C 11.40625 -22.21875 12.132812 -22.132812 12.8125 -21.96875 C 13.488281 -21.8125 14.101562 -21.550781 14.65625 -21.1875 C 15.21875 -20.820312 15.707031 -20.34375 16.125 -19.75 C 16.550781 -19.15625 16.890625 -18.425781 17.140625 -17.5625 L 14.359375 -17.0625 C 14.054688 -18.050781 13.570312 -18.765625 12.90625 -19.203125 C 12.238281 -19.640625 11.46875 -19.859375 10.59375 -19.859375 C 9.789062 -19.859375 9.0625 -19.671875 8.40625 -19.296875 C 7.757812 -18.921875 7.207031 -18.367188 6.75 -17.640625 C 6.300781 -16.921875 5.957031 -16.023438 5.71875 -14.953125 C 5.476562 -13.890625 5.359375 -12.660156 5.359375 -11.265625 C 5.878906 -12.253906 6.617188 -13.003906 7.578125 -13.515625 C 8.546875 -14.035156 9.65625 -14.296875 10.90625 -14.296875 C 11.9375 -14.296875 12.875 -14.125 13.71875 -13.78125 C 14.570312 -13.445312 15.296875 -12.972656 15.890625 -12.359375 C 16.492188 -11.742188 16.957031 -11.003906 17.28125 -10.140625 C 17.613281 -9.273438 17.78125 -8.304688 17.78125 -7.234375 Z M 14.8125 -7.109375 C 14.8125 -7.828125 14.710938 -8.488281 14.515625 -9.09375 C 14.316406 -9.695312 14.023438 -10.21875 13.640625 -10.65625 C 13.253906 -11.09375 12.773438 -11.429688 12.203125 -11.671875 C 11.628906 -11.910156 10.960938 -12.03125 10.203125 -12.03125 C 9.671875 -12.03125 9.132812 -11.941406 8.59375 -11.765625 C 8.050781 -11.585938 7.5625 -11.320312 7.125 -10.96875 C 6.6875 -10.625 6.328125 -10.1875 6.046875 -9.65625 C 5.773438 -9.125 5.640625 -8.503906 5.640625 -7.796875 C 5.640625 -7.023438 5.75 -6.289062 5.96875 -5.59375 C 6.1875 -4.894531 6.5 -4.28125 6.90625 -3.75 C 7.3125 -3.21875 7.800781 -2.796875 8.375 -2.484375 C 8.945312 -2.179688 9.585938 -2.03125 10.296875 -2.03125 C 11.003906 -2.03125 11.632812 -2.148438 12.1875 -2.390625 C 12.75 -2.628906 13.222656 -2.972656 13.609375 -3.421875 C 13.992188 -3.867188 14.289062 -4.40625 14.5 -5.03125 C 14.707031 -5.65625 14.8125 -6.347656 14.8125 -7.109375 Z M 14.8125 -7.109375 \"/>\n",
       "</symbol>\n",
       "<symbol overflow=\"visible\" id=\"glyph-2020-12-0735794.326781455s0-2\">\n",
       "<path style=\"stroke:none;\" d=\"M 17.828125 -7.203125 C 17.828125 -6.117188 17.648438 -5.113281 17.296875 -4.1875 C 16.953125 -3.269531 16.441406 -2.476562 15.765625 -1.8125 C 15.085938 -1.144531 14.238281 -0.617188 13.21875 -0.234375 C 12.207031 0.140625 11.039062 0.328125 9.71875 0.328125 C 8.519531 0.328125 7.472656 0.1875 6.578125 -0.09375 C 5.679688 -0.375 4.925781 -0.757812 4.3125 -1.25 C 3.695312 -1.75 3.207031 -2.328125 2.84375 -2.984375 C 2.476562 -3.640625 2.222656 -4.347656 2.078125 -5.109375 L 5.03125 -5.453125 C 5.144531 -5.015625 5.3125 -4.59375 5.53125 -4.1875 C 5.75 -3.78125 6.039062 -3.414062 6.40625 -3.09375 C 6.78125 -2.78125 7.238281 -2.53125 7.78125 -2.34375 C 8.332031 -2.15625 9 -2.0625 9.78125 -2.0625 C 10.539062 -2.0625 11.226562 -2.175781 11.84375 -2.40625 C 12.457031 -2.632812 12.984375 -2.96875 13.421875 -3.40625 C 13.859375 -3.84375 14.195312 -4.375 14.4375 -5 C 14.675781 -5.632812 14.796875 -6.347656 14.796875 -7.140625 C 14.796875 -7.785156 14.679688 -8.382812 14.453125 -8.9375 C 14.222656 -9.5 13.894531 -9.984375 13.46875 -10.390625 C 13.050781 -10.804688 12.535156 -11.128906 11.921875 -11.359375 C 11.316406 -11.585938 10.625 -11.703125 9.84375 -11.703125 C 9.351562 -11.703125 8.90625 -11.660156 8.5 -11.578125 C 8.09375 -11.492188 7.710938 -11.375 7.359375 -11.21875 C 7.003906 -11.070312 6.679688 -10.894531 6.390625 -10.6875 C 6.109375 -10.488281 5.84375 -10.285156 5.59375 -10.078125 L 2.734375 -10.078125 L 3.5 -21.875 L 16.5 -21.875 L 16.5 -19.53125 L 6.203125 -19.53125 L 5.71875 -12.640625 C 6.238281 -13.035156 6.890625 -13.375 7.671875 -13.65625 C 8.453125 -13.945312 9.378906 -14.09375 10.453125 -14.09375 C 11.585938 -14.09375 12.609375 -13.921875 13.515625 -13.578125 C 14.421875 -13.234375 15.191406 -12.753906 15.828125 -12.140625 C 16.460938 -11.523438 16.953125 -10.796875 17.296875 -9.953125 C 17.648438 -9.109375 17.828125 -8.191406 17.828125 -7.203125 Z M 17.828125 -7.203125 \"/>\n",
       "</symbol>\n",
       "<symbol overflow=\"visible\" id=\"glyph-2020-12-0735794.326781455s0-3\">\n",
       "<path style=\"stroke:none;\" d=\"M 15.203125 -5.171875 L 15.203125 0 L 12.28125 0 L 12.28125 -5.171875 L 1.671875 -5.171875 L 1.671875 -7.4375 L 11.96875 -21.875 L 15.203125 -21.875 L 15.203125 -7.484375 L 18.25 -7.484375 L 18.25 -5.171875 Z M 12.28125 -18.71875 L 4.171875 -7.484375 L 12.28125 -7.484375 Z M 12.28125 -18.71875 \"/>\n",
       "</symbol>\n",
       "<symbol overflow=\"visible\" id=\"glyph-2020-12-0735794.326781455s0-4\">\n",
       "<path style=\"stroke:none;\" d=\"M 17.828125 -6 C 17.828125 -5.019531 17.65625 -4.132812 17.3125 -3.34375 C 16.96875 -2.5625 16.46875 -1.898438 15.8125 -1.359375 C 15.164062 -0.816406 14.359375 -0.398438 13.390625 -0.109375 C 12.429688 0.179688 11.328125 0.328125 10.078125 0.328125 C 8.671875 0.328125 7.476562 0.148438 6.5 -0.203125 C 5.53125 -0.554688 4.726562 -1.019531 4.09375 -1.59375 C 3.46875 -2.175781 3 -2.835938 2.6875 -3.578125 C 2.375 -4.316406 2.171875 -5.082031 2.078125 -5.875 L 5.09375 -6.140625 C 5.175781 -5.535156 5.332031 -4.984375 5.5625 -4.484375 C 5.800781 -3.992188 6.117188 -3.566406 6.515625 -3.203125 C 6.921875 -2.847656 7.414062 -2.570312 8 -2.375 C 8.59375 -2.1875 9.285156 -2.09375 10.078125 -2.09375 C 11.546875 -2.09375 12.695312 -2.429688 13.53125 -3.109375 C 14.375 -3.796875 14.796875 -4.789062 14.796875 -6.09375 C 14.796875 -6.832031 14.609375 -7.441406 14.234375 -7.921875 C 13.859375 -8.410156 13.390625 -8.796875 12.828125 -9.078125 C 12.273438 -9.367188 11.671875 -9.570312 11.015625 -9.6875 C 10.367188 -9.8125 9.769531 -9.875 9.21875 -9.875 L 7.5625 -9.875 L 7.5625 -12.40625 L 9.140625 -12.40625 C 9.691406 -12.40625 10.265625 -12.472656 10.859375 -12.609375 C 11.460938 -12.742188 12.007812 -12.957031 12.5 -13.25 C 12.988281 -13.550781 13.390625 -13.941406 13.703125 -14.421875 C 14.023438 -14.910156 14.1875 -15.492188 14.1875 -16.171875 C 14.1875 -17.316406 13.828125 -18.210938 13.109375 -18.859375 C 12.390625 -19.503906 11.320312 -19.828125 9.90625 -19.828125 C 8.625 -19.828125 7.582031 -19.492188 6.78125 -18.828125 C 5.988281 -18.171875 5.53125 -17.242188 5.40625 -16.046875 L 2.46875 -16.265625 C 2.582031 -17.273438 2.851562 -18.148438 3.28125 -18.890625 C 3.71875 -19.640625 4.269531 -20.257812 4.9375 -20.75 C 5.601562 -21.238281 6.363281 -21.601562 7.21875 -21.84375 C 8.070312 -22.09375 8.976562 -22.21875 9.9375 -22.21875 C 11.226562 -22.21875 12.328125 -22.066406 13.234375 -21.765625 C 14.148438 -21.460938 14.898438 -21.050781 15.484375 -20.53125 C 16.066406 -20.007812 16.492188 -19.398438 16.765625 -18.703125 C 17.046875 -18.003906 17.1875 -17.265625 17.1875 -16.484375 C 17.1875 -15.890625 17.085938 -15.3125 16.890625 -14.75 C 16.691406 -14.195312 16.394531 -13.6875 16 -13.21875 C 15.601562 -12.75 15.101562 -12.34375 14.5 -12 C 13.90625 -11.65625 13.207031 -11.398438 12.40625 -11.234375 L 12.40625 -11.171875 C 13.289062 -11.078125 14.070312 -10.867188 14.75 -10.546875 C 15.425781 -10.222656 15.988281 -9.820312 16.4375 -9.34375 C 16.894531 -8.875 17.238281 -8.351562 17.46875 -7.78125 C 17.707031 -7.207031 17.828125 -6.613281 17.828125 -6 Z M 17.828125 -6 \"/>\n",
       "</symbol>\n",
       "<symbol overflow=\"visible\" id=\"glyph-2020-12-0735794.326781455s0-5\">\n",
       "<path style=\"stroke:none;\" d=\"M 2.328125 0 L 2.328125 -1.890625 C 2.804688 -2.941406 3.4375 -3.910156 4.21875 -4.796875 C 5 -5.679688 5.828125 -6.515625 6.703125 -7.296875 C 7.585938 -8.085938 8.472656 -8.835938 9.359375 -9.546875 C 10.253906 -10.265625 11.0625 -10.972656 11.78125 -11.671875 C 12.5 -12.367188 13.082031 -13.078125 13.53125 -13.796875 C 13.988281 -14.515625 14.21875 -15.273438 14.21875 -16.078125 C 14.21875 -16.722656 14.113281 -17.28125 13.90625 -17.75 C 13.695312 -18.21875 13.398438 -18.609375 13.015625 -18.921875 C 12.628906 -19.234375 12.175781 -19.460938 11.65625 -19.609375 C 11.132812 -19.753906 10.550781 -19.828125 9.90625 -19.828125 C 9.320312 -19.828125 8.78125 -19.742188 8.28125 -19.578125 C 7.78125 -19.410156 7.335938 -19.164062 6.953125 -18.84375 C 6.578125 -18.519531 6.269531 -18.117188 6.03125 -17.640625 C 5.789062 -17.160156 5.632812 -16.597656 5.5625 -15.953125 L 2.578125 -16.234375 C 2.671875 -17.054688 2.890625 -17.828125 3.234375 -18.546875 C 3.585938 -19.273438 4.0625 -19.910156 4.65625 -20.453125 C 5.257812 -21.003906 6 -21.4375 6.875 -21.75 C 7.75 -22.0625 8.757812 -22.21875 9.90625 -22.21875 C 11.039062 -22.21875 12.0625 -22.085938 12.96875 -21.828125 C 13.875 -21.566406 14.640625 -21.1875 15.265625 -20.6875 C 15.898438 -20.1875 16.382812 -19.5625 16.71875 -18.8125 C 17.050781 -18.070312 17.21875 -17.21875 17.21875 -16.25 C 17.21875 -15.238281 16.984375 -14.296875 16.515625 -13.421875 C 16.054688 -12.546875 15.460938 -11.71875 14.734375 -10.9375 C 14.003906 -10.164062 13.195312 -9.425781 12.3125 -8.71875 C 11.425781 -8.019531 10.5625 -7.320312 9.71875 -6.625 C 8.875 -5.9375 8.101562 -5.242188 7.40625 -4.546875 C 6.71875 -3.847656 6.203125 -3.125 5.859375 -2.375 L 17.578125 -2.375 L 17.578125 0 Z M 2.328125 0 \"/>\n",
       "</symbol>\n",
       "<symbol overflow=\"visible\" id=\"glyph-2020-12-0735794.326781455s0-6\">\n",
       "<path style=\"stroke:none;\" d=\"M 2.546875 0 L 2.546875 -2.359375 L 9.671875 -2.359375 L 9.671875 -18.90625 C 9.460938 -18.476562 9.097656 -18.070312 8.578125 -17.6875 C 8.054688 -17.300781 7.457031 -16.96875 6.78125 -16.6875 C 6.113281 -16.40625 5.394531 -16.179688 4.625 -16.015625 C 3.851562 -15.847656 3.113281 -15.765625 2.40625 -15.765625 L 2.40625 -18.171875 C 3.195312 -18.171875 3.976562 -18.257812 4.75 -18.4375 C 5.53125 -18.625 6.253906 -18.878906 6.921875 -19.203125 C 7.597656 -19.535156 8.191406 -19.925781 8.703125 -20.375 C 9.222656 -20.832031 9.625 -21.332031 9.90625 -21.875 L 12.609375 -21.875 L 12.609375 -2.359375 L 18.328125 -2.359375 L 18.328125 0 Z M 2.546875 0 \"/>\n",
       "</symbol>\n",
       "</g>\n",
       "</defs>\n",
       "<g id=\"surface110\">\n",
       "<path style=\"fill-rule:nonzero;fill:rgb(0%,50.196078%,0%);fill-opacity:1;stroke-width:1.341774;stroke-linecap:butt;stroke-linejoin:miter;stroke:rgb(0%,0%,0%);stroke-opacity:1;stroke-miterlimit:10;\" d=\"M 143.277344 240.714844 C 143.277344 226.953125 132.121094 215.796875 118.359375 215.796875 C 104.597656 215.796875 93.441406 226.953125 93.441406 240.714844 C 93.441406 254.476562 104.597656 265.632812 118.359375 265.632812 C 132.121094 265.632812 143.277344 254.476562 143.277344 240.714844 Z M 143.277344 240.714844 \"/>\n",
       "<g style=\"fill:rgb(100%,100%,100%);fill-opacity:1;\">\n",
       "  <use xlink:href=\"#glyph-2020-12-0735794.326781455s0-1\" x=\"108.359905\" y=\"249.55382\"/>\n",
       "</g>\n",
       "<path style=\"fill-rule:nonzero;fill:rgb(0%,50.196078%,0%);fill-opacity:1;stroke-width:1.341774;stroke-linecap:butt;stroke-linejoin:miter;stroke:rgb(0%,0%,0%);stroke-opacity:1;stroke-miterlimit:10;\" d=\"M 330.160156 240.714844 C 330.160156 226.953125 319.003906 215.796875 305.242188 215.796875 C 291.480469 215.796875 280.324219 226.953125 280.324219 240.714844 C 280.324219 254.476562 291.480469 265.632812 305.242188 265.632812 C 319.003906 265.632812 330.160156 254.476562 330.160156 240.714844 Z M 330.160156 240.714844 \"/>\n",
       "<g style=\"fill:rgb(100%,100%,100%);fill-opacity:1;\">\n",
       "  <use xlink:href=\"#glyph-2020-12-0735794.326781455s0-2\" x=\"295.243965\" y=\"249.55382\"/>\n",
       "</g>\n",
       "<path style=\"fill-rule:nonzero;fill:rgb(0%,50.196078%,0%);fill-opacity:1;stroke-width:1.341774;stroke-linecap:butt;stroke-linejoin:miter;stroke:rgb(0%,0%,0%);stroke-opacity:1;stroke-miterlimit:10;\" d=\"M 423.605469 132.816406 C 423.605469 119.054688 412.449219 107.898438 398.6875 107.898438 C 384.925781 107.898438 373.769531 119.054688 373.769531 132.816406 C 373.769531 146.578125 384.925781 157.734375 398.6875 157.734375 C 412.449219 157.734375 423.605469 146.578125 423.605469 132.816406 Z M 423.605469 132.816406 \"/>\n",
       "<g style=\"fill:rgb(100%,100%,100%);fill-opacity:1;\">\n",
       "  <use xlink:href=\"#glyph-2020-12-0735794.326781455s0-3\" x=\"388.685995\" y=\"141.656257\"/>\n",
       "</g>\n",
       "<path style=\"fill-rule:nonzero;fill:rgb(0%,50.196078%,0%);fill-opacity:1;stroke-width:1.341774;stroke-linecap:butt;stroke-linejoin:miter;stroke:rgb(0%,0%,0%);stroke-opacity:1;stroke-miterlimit:10;\" d=\"M 330.160156 24.917969 C 330.160156 11.15625 319.003906 0 305.242188 0 C 291.480469 0 280.324219 11.15625 280.324219 24.917969 C 280.324219 38.679688 291.480469 49.835938 305.242188 49.835938 C 319.003906 49.835938 330.160156 38.679688 330.160156 24.917969 Z M 330.160156 24.917969 \"/>\n",
       "<g style=\"fill:rgb(100%,100%,100%);fill-opacity:1;\">\n",
       "  <use xlink:href=\"#glyph-2020-12-0735794.326781455s0-4\" x=\"295.243965\" y=\"33.758695\"/>\n",
       "</g>\n",
       "<path style=\"fill-rule:nonzero;fill:rgb(0%,50.196078%,0%);fill-opacity:1;stroke-width:1.341774;stroke-linecap:butt;stroke-linejoin:miter;stroke:rgb(0%,0%,0%);stroke-opacity:1;stroke-miterlimit:10;\" d=\"M 143.277344 24.917969 C 143.277344 11.15625 132.121094 0 118.359375 0 C 104.597656 0 93.441406 11.15625 93.441406 24.917969 C 93.441406 38.679688 104.597656 49.835938 118.359375 49.835938 C 132.121094 49.835938 143.277344 38.679688 143.277344 24.917969 Z M 143.277344 24.917969 \"/>\n",
       "<g style=\"fill:rgb(100%,100%,100%);fill-opacity:1;\">\n",
       "  <use xlink:href=\"#glyph-2020-12-0735794.326781455s0-5\" x=\"108.359905\" y=\"33.758695\"/>\n",
       "</g>\n",
       "<path style=\"fill-rule:nonzero;fill:rgb(0%,50.196078%,0%);fill-opacity:1;stroke-width:1.341774;stroke-linecap:butt;stroke-linejoin:miter;stroke:rgb(0%,0%,0%);stroke-opacity:1;stroke-miterlimit:10;\" d=\"M 49.835938 132.816406 C 49.835938 119.054688 38.679688 107.898438 24.917969 107.898438 C 11.15625 107.898438 0 119.054688 0 132.816406 C 0 146.578125 11.15625 157.734375 24.917969 157.734375 C 38.679688 157.734375 49.835938 146.578125 49.835938 132.816406 Z M 49.835938 132.816406 \"/>\n",
       "<g style=\"fill:rgb(100%,100%,100%);fill-opacity:1;\">\n",
       "  <use xlink:href=\"#glyph-2020-12-0735794.326781455s0-6\" x=\"14.917875\" y=\"141.656257\"/>\n",
       "</g>\n",
       "</g>\n",
       "</svg>\n"
      ]
     },
     "metadata": {},
     "output_type": "display_data"
    }
   ],
   "source": [
    "circles = zipWith named [1::Int .. 6] $ repeat (circle 0.2 # fc green)\n",
    "dots = zipWith (<>) (map (fc white . scale 0.2 . text . show) [1..6]) circles\n",
    "hex = hexagon 1 # rotateBy (1/6) # reflectX # scaleX 1.5\n",
    "diagram $ atPoints hex dots\n",
    "--    # applyAll \n",
    "--      [ connectOutside' opts i j\n",
    "--      | i <- [1::Int .. 5]\n",
    "--      , j <- [i+1 .. 6]\n",
    "--      ]"
   ]
  },
  {
   "cell_type": "markdown",
   "metadata": {},
   "source": [
    "Now you’ve started learning the Haskell programming\n",
    "language, which leads down\n",
    "a long road which will eventually take you to Homotopy Type Theory.\n",
    "\n",
    "But what’s next? Not Homotopy Type Theory. The next step is to read __Learn You a Haskell for Great Good!__"
   ]
  }
 ],
 "metadata": {
  "kernelspec": {
   "display_name": "Haskell",
   "language": "haskell",
   "name": "haskell"
  },
  "language_info": {
   "codemirror_mode": "Haskell",
   "file_extension": ".hs",
   "mimetype": "text/x-haskell",
   "name": "haskell",
   "pygments_lexer": "Haskell",
   "version": "8.8.4"
  }
 },
 "nbformat": 4,
 "nbformat_minor": 4
}
