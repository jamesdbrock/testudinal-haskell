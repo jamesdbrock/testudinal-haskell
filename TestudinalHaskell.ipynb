{
 "cells": [
  {
   "cell_type": "markdown",
   "metadata": {},
   "source": [
    "# Testudinal Haskell Notebook\n",
    "\n",
    "This notebook teaches Haskell programming to middle-school students (fourth grade to eighth grade).\n",
    "\n",
    "Haskell is the easiest programming language to learn.\n",
    "If you've studied fractions in school, then you're ready to learn Haskell.\n",
    "\n",
    "“Testudinal” means “having to do with turtles.” This Haskell learning\n",
    "notebook shows you how to do computer graphics in a style called\n",
    "“[turtle graphics](https://en.wikipedia.org/wiki/Turtle_graphics).”\n",
    "\n",
    "## Run this code cell first\n",
    "\n",
    "You must run next code cell first, before running any other code cells. \n",
    "The next code cell contains some commands to make this notebook work right.\n",
    "\n",
    "Now hold down <kbd>🡅 Shift</kbd> and press <kbd>↵ Enter</kbd> two times to run the next code cell."
   ]
  },
  {
   "cell_type": "code",
   "execution_count": null,
   "metadata": {},
   "outputs": [],
   "source": [
    ":extension NoMonomorphismRestriction FlexibleContexts TypeFamilies FlexibleInstances BlockArguments\n",
    ":load lib/TestudinalPrelude\n",
    "import TestudinalPrelude\n",
    "default (Rational, Integer, Double)\n",
    "putStrLn \"Notebook works right!\""
   ]
  },
  {
   "cell_type": "markdown",
   "metadata": {},
   "source": [
    "# Running the Notebook Cells\n",
    "\n",
    "Here is a reference of keyboard commands. You'll want to look at this later. For now, just press <kbd>🡅 Shift</kbd><kbd>↵ Enter</kbd> again.\n",
    "\n",
    "| Keyboard Command | Action |\n",
    "|-------------:|---------------|\n",
    "|<kbd>🡅 Shift</kbd><kbd>↵ Enter</kbd> | Run the selected Jupyter cell and advance to the next cell |\n",
    "|<kbd>Ctrl</kbd><kbd>↵ Enter</kbd> | Run the selected Jupyter cell and don't advance |\n",
    "|<kbd>Alt</kbd><kbd>↵ Enter</kbd> | Run the selected Jupyter cell and insert a new cell after |\n",
    "|<kbd>↵ Enter</kbd> | Edit the selected Jupyter cell |\n",
    "|<kbd>Ctrl</kbd><kbd>🡅 Shift</kbd><kbd>-_</kbd> | Split the Jupyter cell at the cursor position |"
   ]
  },
  {
   "cell_type": "markdown",
   "metadata": {},
   "source": [
    "# Math and Numbers\n",
    "\n",
    "To start out with, the computer can calculate math.\n",
    "\n",
    "Keep pressing <kbd>🡅 Shift</kbd><kbd>↵ Enter</kbd> to see the computer calculate these numbers."
   ]
  },
  {
   "cell_type": "markdown",
   "metadata": {},
   "source": [
    "Add two numbers:"
   ]
  },
  {
   "cell_type": "code",
   "execution_count": null,
   "metadata": {},
   "outputs": [],
   "source": [
    "1+1"
   ]
  },
  {
   "cell_type": "markdown",
   "metadata": {},
   "source": [
    "Here's how to type “plus\": <kbd>🡅 Shift</kbd><kbd>=+</kbd>\n",
    "\n",
    "Try adding two numbers in this blank cell:"
   ]
  },
  {
   "cell_type": "code",
   "execution_count": null,
   "metadata": {},
   "outputs": [],
   "source": []
  },
  {
   "cell_type": "markdown",
   "metadata": {},
   "source": [
    "Subtract two numbers:"
   ]
  },
  {
   "cell_type": "code",
   "execution_count": null,
   "metadata": {},
   "outputs": [],
   "source": [
    "2-1"
   ]
  },
  {
   "cell_type": "markdown",
   "metadata": {},
   "source": [
    "Here's how to type “minus”: <kbd>-_</kbd>\n",
    "\n",
    "Try subtraction in this cell:"
   ]
  },
  {
   "cell_type": "code",
   "execution_count": null,
   "metadata": {},
   "outputs": [],
   "source": []
  },
  {
   "cell_type": "markdown",
   "metadata": {},
   "source": [
    "The multiplication sign is the “asterisk” `*` (instead of `×`).\n",
    "\n",
    "Multiply:"
   ]
  },
  {
   "cell_type": "code",
   "execution_count": null,
   "metadata": {},
   "outputs": [],
   "source": [
    "2*3"
   ]
  },
  {
   "cell_type": "markdown",
   "metadata": {},
   "source": [
    "Here's how to type “asterisk”: <kbd>🡅 Shift</kbd><kbd>8*</kbd>\n",
    " \n",
    "Try multiplying some numbers in this cell:"
   ]
  },
  {
   "cell_type": "code",
   "execution_count": null,
   "metadata": {},
   "outputs": [],
   "source": []
  },
  {
   "cell_type": "markdown",
   "metadata": {},
   "source": [
    "The division sign is the “forward slash” `/` (instead of `÷`).\n",
    "\n",
    "Divide:"
   ]
  },
  {
   "cell_type": "code",
   "execution_count": null,
   "metadata": {},
   "outputs": [],
   "source": [
    "6/2"
   ]
  },
  {
   "cell_type": "markdown",
   "metadata": {},
   "source": [
    "Here's how to type “forward slash”: <kbd>/?</kbd>\n",
    "\n",
    "Try dividing two numbers in this cell:"
   ]
  },
  {
   "cell_type": "code",
   "execution_count": null,
   "metadata": {},
   "outputs": [],
   "source": []
  },
  {
   "cell_type": "markdown",
   "metadata": {},
   "source": [
    "The computer is good at fractions, of course.\n",
    "\n",
    "One-third plus one-third plus one-third equals one."
   ]
  },
  {
   "cell_type": "code",
   "execution_count": null,
   "metadata": {},
   "outputs": [],
   "source": [
    "(1/3) + (1/3) + (1/3)"
   ]
  },
  {
   "cell_type": "markdown",
   "metadata": {},
   "source": [
    "Any time you want to insert a blank notebook cell to try something\n",
    "out, you can press <kbd>Alt</kbd><kbd>↵ Enter</kbd>."
   ]
  },
  {
   "cell_type": "markdown",
   "metadata": {},
   "source": [
    "# Variable names\n",
    "\n",
    "We can give names to numbers, to remember them. These names are called “variables”. We can say the name “alice” is equal to the number *3*. (The variable names must use lowercase letters, so we can’t name a variable “Alice”.)"
   ]
  },
  {
   "cell_type": "code",
   "execution_count": null,
   "metadata": {},
   "outputs": [],
   "source": [
    "alice = 1+2"
   ]
  },
  {
   "cell_type": "code",
   "execution_count": null,
   "metadata": {},
   "outputs": [],
   "source": [
    "alice"
   ]
  },
  {
   "cell_type": "markdown",
   "metadata": {},
   "source": [
    "So then we can use the name “alice” to mean *3*."
   ]
  },
  {
   "cell_type": "code",
   "execution_count": null,
   "metadata": {},
   "outputs": [],
   "source": [
    "alice + 4"
   ]
  },
  {
   "cell_type": "markdown",
   "metadata": {},
   "source": [
    "# Functions\n",
    "\n",
    "A __function__ is a little computer program.\n",
    "\n",
    "A function has “arguments”, which means stuff that goes into the function before it starts, and “results,” which means stuff that comes out of the function after it finishes.\n",
    "\n",
    "You can write a function, then give the function some argument variables. The function has a name, and each argument variable has a name.\n",
    "\n",
    "Here is a function named `doubleplus`, with two arguments, named `x` and `y`.\n",
    "\n",
    "`doubleplus x y` equals 2 times `x` plus `y`."
   ]
  },
  {
   "cell_type": "code",
   "execution_count": null,
   "metadata": {},
   "outputs": [],
   "source": [
    "doubleplus x y = 2 * x + y"
   ]
  },
  {
   "cell_type": "markdown",
   "metadata": {},
   "source": [
    "Now we can “call” the function, which means to give it some arguments, and then it will run its program, and show us the result.\n",
    "\n",
    "Let's call the `doubleplus` function with arguments `x=1`, and `y=2`."
   ]
  },
  {
   "cell_type": "code",
   "execution_count": null,
   "metadata": {},
   "outputs": [],
   "source": [
    "doubleplus 1 2"
   ]
  },
  {
   "cell_type": "markdown",
   "metadata": {},
   "source": [
    "So `doubleplus 1 2` is equal to `2 * 1 + 2` and the result is `4`, that checks out."
   ]
  },
  {
   "cell_type": "code",
   "execution_count": null,
   "metadata": {},
   "outputs": [],
   "source": [
    "doubleplus 2 3"
   ]
  },
  {
   "cell_type": "markdown",
   "metadata": {},
   "source": [
    "What did `doubleplus` calculate first, the `2 * x` or the `x + y` ? \n",
    "\n",
    "It calculated the `2 * x` first. If we want to make it calculate the `x + y` first, then we can put parentheses around the `x + y`."
   ]
  },
  {
   "cell_type": "code",
   "execution_count": null,
   "metadata": {},
   "outputs": [],
   "source": [
    "doubleplusgood x y = 2 * (x + y)"
   ]
  },
  {
   "cell_type": "code",
   "execution_count": null,
   "metadata": {},
   "outputs": [],
   "source": [
    "doubleplusgood 1 2"
   ]
  },
  {
   "cell_type": "code",
   "execution_count": null,
   "metadata": {},
   "outputs": [],
   "source": [
    "doubleplusgood 2 3"
   ]
  },
  {
   "cell_type": "markdown",
   "metadata": {},
   "source": [
    "Try writing a new function with two arguments, like `morefun x y = x + x + y`:"
   ]
  },
  {
   "cell_type": "code",
   "execution_count": null,
   "metadata": {},
   "outputs": [],
   "source": []
  },
  {
   "cell_type": "markdown",
   "metadata": {},
   "source": [
    "Now call your function with arguments, like `morefun 1 2`:"
   ]
  },
  {
   "cell_type": "code",
   "execution_count": null,
   "metadata": {},
   "outputs": [],
   "source": []
  },
  {
   "cell_type": "markdown",
   "metadata": {},
   "source": [
    "Here is a function for help with checking your math homework: `quotRem`.\n",
    "\n",
    "The `quotRem` function is like division, but it tells you the whole division \n",
    "result (the “quotient”) and also the “remainder.”\n",
    "\n",
    "7 divided by 2 equals 3 with a remainder of 1."
   ]
  },
  {
   "cell_type": "code",
   "execution_count": null,
   "metadata": {},
   "outputs": [],
   "source": [
    "quotRem 7 2"
   ]
  },
  {
   "cell_type": "markdown",
   "metadata": {},
   "source": [
    "Here’s another helpful function: `properFraction`.\n",
    "\n",
    "You may have noticed that\n",
    "the numbers in this notebook are fractions, like 3/2. Well 3/2 is equal to\n",
    "the whole number 1 plus the fraction “one half”. The `properFraction` function will show\n",
    "you the whole number plus the fractional part. \n",
    "\n",
    "You must write parentheses `()` around\n",
    "a fractional number."
   ]
  },
  {
   "cell_type": "code",
   "execution_count": null,
   "metadata": {},
   "outputs": [],
   "source": [
    "properFraction (3/2)"
   ]
  },
  {
   "cell_type": "markdown",
   "metadata": {},
   "source": [
    "# Letters, characters, and strings\n",
    "\n",
    "A “character” is a one letter in single quotes, like this: `'I'`."
   ]
  },
  {
   "cell_type": "code",
   "execution_count": null,
   "metadata": {},
   "outputs": [],
   "source": [
    "'I'"
   ]
  },
  {
   "cell_type": "markdown",
   "metadata": {},
   "source": [
    "A “string” means a string of letters in double-quotes, like this: `\"I am a string.\"`"
   ]
  },
  {
   "cell_type": "code",
   "execution_count": null,
   "metadata": {},
   "outputs": [],
   "source": [
    "\"I am a string.\""
   ]
  },
  {
   "cell_type": "markdown",
   "metadata": {},
   "source": [
    "A string can be an argument going into a function or a result coming out of a function.\n",
    "\n",
    "The function `head` takes a string of characters as an argument, and the result is the first character in the string."
   ]
  },
  {
   "cell_type": "code",
   "execution_count": null,
   "metadata": {},
   "outputs": [],
   "source": [
    "head \"I am a string.\""
   ]
  },
  {
   "cell_type": "markdown",
   "metadata": {},
   "source": [
    "We can stick two strings together with the `<>` symbol, which is like `+` but for strings instead of numbers.\n",
    "\n",
    "Here's how to type the `<>` symbol: <kbd>🡅 Shift</kbd><kbd>,<</kbd> <kbd>🡅 Shift</kbd><kbd>.></kbd>"
   ]
  },
  {
   "cell_type": "code",
   "execution_count": null,
   "metadata": {},
   "outputs": [],
   "source": [
    "\"I am ... \" <> \"a string.\""
   ]
  },
  {
   "cell_type": "markdown",
   "metadata": {},
   "source": [
    "# CAPTAIN UNDERPANTS #4\n",
    "\n",
    "### And The Perilous Plot of Professor Poopypants\n",
    "\n",
    "Copyright © Dav Pilkey, 1999\n",
    "\n",
    "### CHAPTER 15 \n",
    "### THE NAME CHANGE-O-CHART 2000\n",
    "\n",
    "p.91 — p.92\n",
    "\n",
    "<img src=\"img/ttname1.jpg\" style=\"width:300px;\"/><img src=\"img/ttname2.jpg\" style=\"width:300px;\"/><img src=\"img/ttname3.jpg\" style=\"width:300px;\"/>\n",
    "\n",
    "Professor Poopypants gives these charts with some rules for how everyone on Earth must change their name into a silly name.\n",
    "\n",
    "* Take the first letter of your first name, and look it up in Chart 1.\n",
    "* Take the first letter of your last name, and look it up in Chart 2.\n",
    "* Take the last letter of your last name, and look it up in Chart 3.\n",
    "\n",
    "The result is your silly name.\n",
    "\n",
    "We can write a function to change names into silly names. First, we'll write three functions, one for each chart. We'll name our functions `chart1`, `chart2`, and `chart3`.\n",
    "\n",
    "Notice how we keep writing the same `chart1` function over and over with different argument characters. This is called “pattern matching.” When we call the `chart1` function with a character, the result will be the word that matches the character."
   ]
  },
  {
   "cell_type": "code",
   "execution_count": null,
   "metadata": {},
   "outputs": [],
   "source": [
    "chart1 'A' = \"Stinky\"\n",
    "chart1 'B' = \"Lumpy\"\n",
    "chart1 'C' = \"Buttercup\"\n",
    "chart1 'D' = \"Gidget\"\n",
    "chart1 'E' = \"Crusty\"\n",
    "chart1 'F' = \"Greasy\"\n",
    "chart1 'G' = \"Fluffy\"\n",
    "chart1 'H' = \"Cheeseball\"\n",
    "chart1 'I' = \"Chim-Chim\"\n",
    "chart1 'J' = \"Poopsie\"\n",
    "chart1 'K' = \"Flunky\"\n",
    "chart1 'L' = \"Booger\"\n",
    "chart1 'M' = \"Pinky\"\n",
    "chart1 'N' = \"Zippy\"\n",
    "chart1 'O' = \"Goober\"\n",
    "chart1 'P' = \"Doofus\"\n",
    "chart1 'Q' = \"Slimey\"\n",
    "chart1 'R' = \"Loopy\"\n",
    "chart1 'S' = \"Snotty\"\n",
    "chart1 'T' = \"Falafel\"\n",
    "chart1 'U' = \"Dorky\"\n",
    "chart1 'V' = \"Squeezit\"\n",
    "chart1 'W' = \"Oprah\"\n",
    "chart1 'X' = \"Skipper\"\n",
    "chart1 'Y' = \"Dinky\"\n",
    "chart1 'Z' = \"Zsa-Zsa\"\n",
    "chart1 _   = \"???\"\n",
    "\n",
    "chart2 'A' = \"Diaper\"\n",
    "chart2 'B' = \"Toilet\"\n",
    "chart2 'C' = \"Giggle\"\n",
    "chart2 'D' = \"Bubble\"\n",
    "chart2 'E' = \"Girdle\"\n",
    "chart2 'F' = \"Barf\"\n",
    "chart2 'G' = \"Lizard\"\n",
    "chart2 'H' = \"Waffle\"\n",
    "chart2 'I' = \"Cootie\"\n",
    "chart2 'J' = \"Monkey\"\n",
    "chart2 'K' = \"Potty\"\n",
    "chart2 'L' = \"Liver\"\n",
    "chart2 'M' = \"Banana\"\n",
    "chart2 'N' = \"Rhino\"\n",
    "chart2 'O' = \"Burger\"\n",
    "chart2 'P' = \"Hamster\"\n",
    "chart2 'Q' = \"Toad\"\n",
    "chart2 'R' = \"Gizzard\"\n",
    "chart2 'S' = \"Pizza\"\n",
    "chart2 'T' = \"Gerbil\"\n",
    "chart2 'U' = \"Chicken\"\n",
    "chart2 'V' = \"Pickle\"\n",
    "chart2 'W' = \"Chuckle\"\n",
    "chart2 'X' = \"Tofu\"\n",
    "chart2 'Y' = \"Gorilla\"\n",
    "chart2 'Z' = \"Stinker\"\n",
    "chart2 _   = \"???\"\n",
    "\n",
    "chart3 'A' = \"Head\"\n",
    "chart3 'B' = \"Mouth\"\n",
    "chart3 'C' = \"Face\"\n",
    "chart3 'D' = \"Nose\"\n",
    "chart3 'E' = \"Tush\"\n",
    "chart3 'F' = \"Breath\"\n",
    "chart3 'G' = \"Pants\"\n",
    "chart3 'H' = \"Shorts\"\n",
    "chart3 'I' = \"Lips\"\n",
    "chart3 'J' = \"Honker\"\n",
    "chart3 'K' = \"Butt\"\n",
    "chart3 'L' = \"Brain\"\n",
    "chart3 'M' = \"Tushie\"\n",
    "chart3 'N' = \"Chunks\"\n",
    "chart3 'O' = \"Hiney\"\n",
    "chart3 'P' = \"Biscuits\"\n",
    "chart3 'Q' = \"Toes\"\n",
    "chart3 'R' = \"Buns\"\n",
    "chart3 'S' = \"Fanny\"\n",
    "chart3 'T' = \"Sniffer\"\n",
    "chart3 'U' = \"Sprinkles\"\n",
    "chart3 'V' = \"Kisser\"\n",
    "chart3 'W' = \"Squirt\"\n",
    "chart3 'X' = \"Humperdinck\"\n",
    "chart3 'Y' = \"Brains\"\n",
    "chart3 'Z' = \"Juice\"\n",
    "chart3 _   = \"???\""
   ]
  },
  {
   "cell_type": "markdown",
   "metadata": {},
   "source": [
    "Notice how the last `chart3` function pattern has the argument `_` which is pronounced “underscore.” This `_` argument means that it matches any pattern. So any argument which is not one of the patterns `'A'`, `'B'` through `'Z'` will match this pattern and return `\"???\"`."
   ]
  },
  {
   "cell_type": "markdown",
   "metadata": {},
   "source": [
    "# Lists\n",
    "\n",
    "Here's a new thing: lists. We can make a list with square brackets\n",
    "`[` `]` and commas `,`.\n",
    "\n",
    "Here's a list of numbers:"
   ]
  },
  {
   "cell_type": "code",
   "execution_count": null,
   "metadata": {},
   "outputs": [],
   "source": [
    "[1,2,1000]"
   ]
  },
  {
   "cell_type": "markdown",
   "metadata": {},
   "source": [
    "Here's a list of characters, which is actually what a string is:"
   ]
  },
  {
   "cell_type": "code",
   "execution_count": null,
   "metadata": {},
   "outputs": [],
   "source": [
    "['I', ' ', 'a', 'm', ' ', 'a', ' ', 's', 't', 'r', 'i', 'n', 'g', '.']"
   ]
  },
  {
   "cell_type": "markdown",
   "metadata": {},
   "source": [
    "We’re almost ready to write the `sillyname` function.\n",
    "\n",
    "We need to know about three more functions first.\n",
    "\n",
    "* The function `head` returns the first thing in a list.\n",
    "* The function `last` returns the last thing in a list.\n",
    "* The function `words` breaks up a string into a list of word strings.\n"
   ]
  },
  {
   "cell_type": "code",
   "execution_count": null,
   "metadata": {},
   "outputs": [],
   "source": [
    "head [1,2,3]\n",
    "last [1,2,3]\n",
    "words \"Professor Poopypants\""
   ]
  },
  {
   "cell_type": "markdown",
   "metadata": {},
   "source": [
    "\n",
    "\n",
    "We’ll write some helper functions, `firstname` and `lastname`.\n",
    "\n",
    "* The function `firstname` will return the first name from a name.\n",
    "* The function `lastname` will return the last name from a name."
   ]
  },
  {
   "cell_type": "code",
   "execution_count": null,
   "metadata": {},
   "outputs": [],
   "source": [
    "firstname name = head (words name)\n",
    "lastname name = last (words name)"
   ]
  },
  {
   "cell_type": "code",
   "execution_count": null,
   "metadata": {},
   "outputs": [],
   "source": [
    "firstname \"Professor Poopypants\""
   ]
  },
  {
   "cell_type": "code",
   "execution_count": null,
   "metadata": {},
   "outputs": [],
   "source": [
    "lastname \"Professor Poopypants\""
   ]
  },
  {
   "cell_type": "markdown",
   "metadata": {},
   "source": [
    "We need to use this function called `toUpper` which takes a character\n",
    "and returns the same character, but uppercase. Because the `chart` functions which we wrote only work with uppercase characters."
   ]
  },
  {
   "cell_type": "code",
   "execution_count": null,
   "metadata": {},
   "outputs": [],
   "source": [
    "toUpper 'a'"
   ]
  },
  {
   "cell_type": "markdown",
   "metadata": {},
   "source": [
    "# The `sillyname` function\n",
    "\n",
    "Now the tricky bit, writing the `sillyname` function."
   ]
  },
  {
   "cell_type": "code",
   "execution_count": null,
   "metadata": {},
   "outputs": [],
   "source": [
    "sillyname name = \n",
    " chart1 (toUpper (head (firstname name))) \n",
    " <> \n",
    " \" \" \n",
    " <> \n",
    " chart2 (toUpper (head (lastname name))) \n",
    " <> \n",
    " chart3 (toUpper (last (lastname name)))"
   ]
  },
  {
   "cell_type": "code",
   "execution_count": null,
   "metadata": {},
   "outputs": [],
   "source": [
    "sillyname \"Professor Poopypants\""
   ]
  },
  {
   "cell_type": "markdown",
   "metadata": {},
   "source": [
    "But what's the silly name for `\"Doofus HamsterFanny\"`? We can \n",
    "call the `sillyname` function again to find out."
   ]
  },
  {
   "cell_type": "code",
   "execution_count": null,
   "metadata": {},
   "outputs": [],
   "source": [
    "sillyname \"Doofus HamsterFanny\""
   ]
  },
  {
   "cell_type": "markdown",
   "metadata": {},
   "source": [
    "Which is the same thing as calling the `sillyName` function twice on `\"Professor Poopypants\"`."
   ]
  },
  {
   "cell_type": "code",
   "execution_count": null,
   "metadata": {},
   "outputs": [],
   "source": [
    "sillyname (sillyname \"Professor Poopypants\")"
   ]
  },
  {
   "cell_type": "markdown",
   "metadata": {},
   "source": [
    "Obviously you want to know your own silly name. Call the `sillyname`\n",
    "function in this cell:"
   ]
  },
  {
   "cell_type": "code",
   "execution_count": null,
   "metadata": {},
   "outputs": [],
   "source": []
  },
  {
   "cell_type": "markdown",
   "metadata": {},
   "source": [
    "Use the `nTimes` function to call the `sillyname` function over and over again “n” times on the same name. The “n” is the number of times."
   ]
  },
  {
   "cell_type": "code",
   "execution_count": null,
   "metadata": {},
   "outputs": [],
   "source": [
    "nTimes 2 sillyname \"Professor PoopyPants\"\n",
    "nTimes 3 sillyname \"Professor PoopyPants\"\n",
    "nTimes 4 sillyname \"Professor PoopyPants\""
   ]
  },
  {
   "cell_type": "markdown",
   "metadata": {},
   "source": [
    "# Doing IO Actions\n",
    "\n",
    "“IO” stands for “Input Output” and it’s pronounced “eye-oh”.\n",
    "\n",
    "An __IO action function__ is a special kind of function. It's special because for this kind of function, the sequence of the actions matters. The word “sequence” means “one thing comes before, and one thing comes after.”\n",
    "\n",
    "Sometimes we want to tell the computer to first do one action, and then next do another action. This is called __IO action sequencing__.\n",
    "\n",
    "To call IO action functions, we write `do` and then the list of IO action functions, one on each line, like this. The actions must be indented with a space, so that we know they all belong to the same `do` IO action block.\n",
    "\n",
    "```\n",
    "do\n",
    " action 1\n",
    " action 2\n",
    "```\n",
    "\n",
    "The way that we tell the computer to print a string is the `putStr` IO action function. The `putStr` function must be in a `do` IO action block, for action sequencing."
   ]
  },
  {
   "cell_type": "code",
   "execution_count": null,
   "metadata": {},
   "outputs": [],
   "source": [
    "do\n",
    " putStr \"I am ...\"\n",
    " putStr \" two strings.\""
   ]
  },
  {
   "cell_type": "markdown",
   "metadata": {},
   "source": [
    "The action function to start printing on the next line is `putStrLn \"\"`, which is pronounced “put string line.”"
   ]
  },
  {
   "cell_type": "code",
   "execution_count": null,
   "metadata": {},
   "outputs": [],
   "source": [
    "do\n",
    " putStr \"I am ...\"\n",
    " putStrLn \"\"\n",
    " putStr \" two strings.\""
   ]
  },
  {
   "cell_type": "markdown",
   "metadata": {},
   "source": [
    "To make the computer repeat an action, we use the `doTimes` function. With `doTimes` we can start an inner `do` action block."
   ]
  },
  {
   "cell_type": "code",
   "execution_count": null,
   "metadata": {},
   "outputs": [],
   "source": [
    "do \n",
    " doTimes 3 do\n",
    "  putStr \"act\"\n",
    "  putStrLn \"\""
   ]
  },
  {
   "cell_type": "markdown",
   "metadata": {},
   "source": [
    "# Turtle Drawing with IO Actions"
   ]
  },
  {
   "cell_type": "markdown",
   "metadata": {},
   "source": [
    "Let's draw in the notebook. To draw, we use an imaginary pen which\n",
    "we call “the turtle.”\n",
    "\n",
    "The turtle starts at the left side of the page, pointing to the right. We use IO action functions\n",
    "to tell it what to draw.\n",
    "\n",
    "Let’s say:\n",
    "1. Go forward 2 steps\n",
    "2. Turn right 90 degrees\n",
    "3. Go forward 1 step\n",
    "4. Turn right 90 degrees\n",
    "5. Go forward 1 step"
   ]
  },
  {
   "cell_type": "code",
   "execution_count": null,
   "metadata": {},
   "outputs": [],
   "source": [
    "turtle do\n",
    " forward 2\n",
    " right 90\n",
    " forward 1\n",
    " right 90\n",
    " forward 1"
   ]
  },
  {
   "cell_type": "markdown",
   "metadata": {},
   "source": [
    "The `right` and `left` functions are degree angles. `90` degrees means\n",
    "“turn a right-angle corner.”\n",
    "\n",
    "<a href=\"https://commons.wikimedia.org/w/index.php?curid=12811448\"><img src=\"img/1920px-Protractor_Rapporteur_Degrees_V3.jpg\" style=\"width:60%;\"/></a>\n"
   ]
  },
  {
   "cell_type": "markdown",
   "metadata": {},
   "source": [
    "Here's how to draw a star:"
   ]
  },
  {
   "cell_type": "code",
   "execution_count": null,
   "metadata": {},
   "outputs": [],
   "source": [
    "turtle do\n",
    " forward 1\n",
    " right (180*(4/5))\n",
    " forward 1\n",
    " right (180*(4/5))\n",
    " forward 1\n",
    " right (180*(4/5))\n",
    " forward 1\n",
    " right (180*(4/5))\n",
    " forward 1\n",
    " right (180*(4/5))"
   ]
  },
  {
   "cell_type": "markdown",
   "metadata": {},
   "source": [
    " We can use `doTimes` to repeat our IO actions."
   ]
  },
  {
   "cell_type": "code",
   "execution_count": null,
   "metadata": {},
   "outputs": [],
   "source": [
    "turtle do\n",
    " doTimes 5 do\n",
    "  forward 1\n",
    "  right (180*(4/5))"
   ]
  },
  {
   "cell_type": "markdown",
   "metadata": {},
   "source": [
    "The IO action function that makes the turtle do nothing is `pure ()`.\n",
    "\n",
    "This `spiral` function shows how to write a “recursive” function. A “recursive” function means “a function which calls itself.” See how the `spiral` function calls itself with a smaller `distance` on the last line of the function. When the `distance` shrinks smaller than *1*, then the `spiral` function stops and returns without doing anything."
   ]
  },
  {
   "cell_type": "code",
   "execution_count": null,
   "metadata": {},
   "outputs": [],
   "source": [
    "spiral distance angle =\n",
    " if distance < 1 \n",
    "  then pure ()\n",
    "  else do\n",
    "   forward distance\n",
    "   left angle\n",
    "   spiral (distance * (19/20)) angle"
   ]
  },
  {
   "cell_type": "code",
   "execution_count": null,
   "metadata": {},
   "outputs": [],
   "source": [
    "turtle do spiral 100 11"
   ]
  },
  {
   "cell_type": "code",
   "execution_count": null,
   "metadata": {},
   "outputs": [],
   "source": [
    "turtle do\n",
    " right 90\n",
    " setPenColor purple\n",
    " spiral 100 11\n",
    " setPenColor orange\n",
    " spiral 100 12\n",
    " setPenColor firebrick\n",
    " spiral 100 13"
   ]
  },
  {
   "cell_type": "markdown",
   "metadata": {},
   "source": [
    "Here are some links to more functions which you can use.\n",
    "\n",
    "* [Diagrams Prelude](https://hackage.haskell.org/package/diagrams-lib/docs/Diagrams-Prelude.html)\n",
    "* [Turtle reference](http://hackage.haskell.org/package/diagrams-contrib/docs/Diagrams-TwoD-Path-Turtle.html)\n",
    "* [Color names](https://hackage.haskell.org/package/colour/docs/Data-Colour-Names.html)"
   ]
  }
 ],
 "metadata": {
  "kernelspec": {
   "display_name": "Haskell",
   "language": "haskell",
   "name": "haskell"
  },
  "language_info": {
   "codemirror_mode": "ihaskell",
   "file_extension": ".hs",
   "mimetype": "text/x-haskell",
   "name": "haskell",
   "pygments_lexer": "Haskell",
   "version": "8.10.4"
  }
 },
 "nbformat": 4,
 "nbformat_minor": 4
}
