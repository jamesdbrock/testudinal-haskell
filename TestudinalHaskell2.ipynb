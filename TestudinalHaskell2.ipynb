{
 "cells": [
  {
   "cell_type": "markdown",
   "metadata": {},
   "source": [
    "# Testudinal Haskell Notebook 2\n",
    "\n",
    "## More Turtle Drawing\n",
    "\n",
    "This is the second Testudinal Haskell Notebook. It has more turtle drawing examples.\n",
    "\n",
    "“Testudinal” means “having to do with turtles.” This Haskell learning\n",
    "notebook shows you how to do computer graphics in a style called\n",
    "“[turtle graphics](https://en.wikipedia.org/wiki/Turtle_graphics).”\n",
    "\n",
    "## Run this code cell first\n",
    "\n",
    "You must run next code cell first, before running any other code cells. \n",
    "The next code cell contains some commands to make this notebook work right.\n",
    "\n",
    "Now hold down <kbd>🡅 Shift</kbd> and press <kbd>↵ Enter</kbd> two times to run the next code cell."
   ]
  },
  {
   "cell_type": "code",
   "execution_count": null,
   "metadata": {},
   "outputs": [],
   "source": [
    ":extension NoMonomorphismRestriction FlexibleContexts TypeFamilies FlexibleInstances BlockArguments\n",
    ":load lib/TestudinalPrelude\n",
    "import TestudinalPrelude\n",
    "default (Rational, Integer, Double)\n",
    "putStrLn \"Notebook works right!\""
   ]
  },
  {
   "cell_type": "markdown",
   "metadata": {},
   "source": [
    "# Running the Notebook Cells\n",
    "\n",
    "Here is a reference of keyboard commands. You'll want to look at this later. For now, just press <kbd>🡅 Shift</kbd><kbd>↵ Enter</kbd> again.\n",
    "\n",
    "| Keyboard Command | Action |\n",
    "|-------------:|---------------|\n",
    "|<kbd>🡅 Shift</kbd><kbd>↵ Enter</kbd> | Run the selected Jupyter cell and advance to the next cell |\n",
    "|<kbd>Ctrl</kbd><kbd>↵ Enter</kbd> | Run the selected Jupyter cell and don't advance |\n",
    "|<kbd>Alt</kbd><kbd>↵ Enter</kbd> | Run the selected Jupyter cell and insert a new cell after |\n",
    "|<kbd>↵ Enter</kbd> | Edit the selected Jupyter cell |\n",
    "|<kbd>Ctrl</kbd><kbd>🡅 Shift</kbd><kbd>-_</kbd> | Split the Jupyter cell at the cursor position |"
   ]
  },
  {
   "cell_type": "markdown",
   "metadata": {},
   "source": [
    "The `resetTurtle` function will make the turtle do some action and then return to the same place where it started.\n",
    "\n",
    "Here is a function to draw a [fern](http://www.pool.rnd.team/en/Galeria).\n",
    "\n",
    "The fern is “recursive.” The word “recursive” means “a function which calls itself.” The `fern1` function calls itself three times, can you see where?"
   ]
  },
  {
   "cell_type": "code",
   "execution_count": null,
   "metadata": {},
   "outputs": [],
   "source": [
    "fern1 size sign = do\n",
    " setPenColor orange\n",
    " setPenWidth 1\n",
    " if size < 0.1 \n",
    "  then pure ()\n",
    "  else resetTurtle do\n",
    "   forward size\n",
    "   resetTurtle do \n",
    "    right (70 * sign)\n",
    "    fern1 (0.5 * size) (negate sign)\n",
    "   forward size\n",
    "   resetTurtle do \n",
    "    left (70 * sign)\n",
    "    fern1 (0.5 * size) sign\n",
    "   resetTurtle do \n",
    "    right (7 * sign)\n",
    "    fern1 (size - 1) sign"
   ]
  },
  {
   "cell_type": "code",
   "execution_count": null,
   "metadata": {},
   "outputs": [],
   "source": [
    "turtle do fern1 21 (-1)"
   ]
  },
  {
   "cell_type": "code",
   "execution_count": null,
   "metadata": {},
   "outputs": [],
   "source": [
    "fern2 size = do\n",
    " setPenColor green\n",
    " setPenWidth 1\n",
    " if size < 0.2\n",
    "  then pure ()\n",
    "  else resetTurtle do\n",
    "   forward size\n",
    "   left 80\n",
    "   fern2 (0.3 * size)\n",
    "   right 82\n",
    "   forward size\n",
    "   right 80\n",
    "   fern2 (0.3 * size)\n",
    "   left 78\n",
    "   fern2 (0.9 * size)"
   ]
  },
  {
   "cell_type": "code",
   "execution_count": null,
   "metadata": {},
   "outputs": [],
   "source": [
    "turtle do fern2 24"
   ]
  },
  {
   "cell_type": "code",
   "execution_count": null,
   "metadata": {},
   "outputs": [],
   "source": [
    "sliderCat <- mkFloatSlider\n",
    "setField sliderCat MinFloat (-100.0)\n",
    "setField sliderCat MaxFloat 100.0\n",
    "setField sliderCat StepFloat (Just 1.0)\n",
    "setField sliderCat FloatValue 0.0\n",
    "\n",
    "outCat <- mkOutput\n",
    "\n",
    "drawCat = do\n",
    "  val <- getField sliderCat FloatValue\n",
    "  -- replaceOutput outCat $ diagram $ rotate ((-90.0) @@ deg) $ sizeDiagram $ drawTurtle do\n",
    "  replaceOutput outCat $ turtle do\n",
    "    setPenWidth 4\n",
    "    for_ [1.0,2.0..30.0] \\i -> do\n",
    "      forward 10.0\n",
    "      left (val * i / 100.0)\n",
    " -- where \n",
    " --  sizeDiagram = withEnvelope (fromPoints [mkP2 0.0 (-180.0), mkP2 300.0 180.0]) \n",
    "\n",
    "setField sliderCat ChangeHandler drawCat\n",
    "\n",
    "sliderCat\n",
    "outCat\n",
    "drawCat"
   ]
  }
 ],
 "metadata": {
  "kernelspec": {
   "display_name": "Haskell",
   "language": "haskell",
   "name": "haskell"
  },
  "language_info": {
   "codemirror_mode": "ihaskell",
   "file_extension": ".hs",
   "mimetype": "text/x-haskell",
   "name": "haskell",
   "pygments_lexer": "Haskell",
   "version": "8.10.4"
  }
 },
 "nbformat": 4,
 "nbformat_minor": 4
}
